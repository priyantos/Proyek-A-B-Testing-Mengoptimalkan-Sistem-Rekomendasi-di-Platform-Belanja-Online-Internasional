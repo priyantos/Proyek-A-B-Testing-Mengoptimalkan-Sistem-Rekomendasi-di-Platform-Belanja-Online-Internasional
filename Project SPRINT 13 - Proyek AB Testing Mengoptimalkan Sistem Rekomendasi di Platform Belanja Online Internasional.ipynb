{
  "cells": [
    {
      "cell_type": "markdown",
      "metadata": {
        "id": "0q-Im_evHOwA"
      },
      "source": [
        "# Proyek A/B Testing : Mengoptimalkan Sistem Rekomendasi di Platform Belanja Online Internasional"
      ]
    },
    {
      "cell_type": "markdown",
      "metadata": {
        "id": "Me5HTNMMHOwC"
      },
      "source": [
        "# Pendahuluan <a id='intro'></a>\n",
        "\n",
        "Suatu peristiwa pada 7 Desember 2020, sebuah eksperimen A/B diluncurkan oleh toko online internasional untuk menguji perubahan terkait penyempurnaan sistem rekomendasi. Nama eksperimen ini adalah \"recommender_system_test\" dimana sistem terbagi menjadi dua kelompok: Kelompok A sebagai kontrol dan Kelompok B yang melibatkan pengenalan cara melakukan pembayaran baru.\n",
        "\n",
        "# Tujuan <a id='GoalSet'></a>\n",
        "\n",
        "- Tujuan Uji Coba: Meneliti dampak perubahan dalam menghadirkan sistem rekomendasi yang lebih unggul dan efektif serta ditingkatkan.\n",
        "    - Hasil yang Diharapkan: Dalam waktu 14 hari sejak pendaftaran, pengguna akan menunjukkan peningkatan konversi ke tampilan halaman produk (event product_page), tampilan kartu produk (event product_card), dan pembelian (event purchase). Setiap tahap dari funnel product_page → product_card → purchase harus mengalami peningkatan minimal 10%.\n",
        "    \n",
        "# Tahapan yang dilakukan<a id='StepbyStep'></a>\n",
        "\n",
        "Tahapan-tahapan yang akan dilakukan adalah sebagai berikut:\n",
        "\n",
        "**1. Mengeksplorasi Data:**\n",
        "\n",
        "   - Konversi Tipe Data: cek semua type data apakah ada yang dikonversi tipe data pada setiap file data yang diberikan.\n",
        "   - Data Hilang dan Duplikat: Menemukan adanya nilai hilang atau duplikat dalam dataset. Jika ditemukan, buat penjelasan sifat dan dampaknya terhadap analisis.\n",
        "\n",
        "**2. Melakukan analisis data eksploratif (EDA):**\n",
        "\n",
        "   - Distribusi jumlah event per pengguna: menelaah lebih dalam apakah jumlah event per pengguna didistribusikan secara merata diantara sampel A dan sampel B.\n",
        "   - Pengguna yang masuk didalam kedua sampel: mengidentifikasi apakah ada pengguna yang masuk dikedua sampel tersebut, dan jika ada, mengevaluasi dampaknya terhadap hasil uji coba.\n",
        "   - Distribusi jumlah event per hari: menganalisis cara distribusi jumlah event berdasarkan hari.\n",
        "   \n",
        "**3. Menganalisis Konversi diBerbagai Tahap Funnel:**\n",
        "\n",
        "   - Mengidentifikasi dan menganalisis tingkat konversi pengguna pada setiap tahapan funnel, mulai dari tampilan halaman produk (product_page) ke tampilan kartu produk (product_card) hingga pembelian (purchase)\n",
        "   \n",
        "**4. Evaluasi Hasil A/B Test:**\n",
        "\n",
        "   - Interpretasi hasil A/B test: menyajikan temuan dan kesimpulan dari hasil uji coba A/B, apakah terdapat perbedaan yang signifikan diantara kelompok A (kontrol) dan B (cara melakukan pembayaran baru).\n",
        "   - Penggunaan Z-Criterion: menggunakan z-criterion untuk memeriksa perbedaan statistik antara proporsi pada kedua kelompok.\n",
        "   \n",
        "**Deskripsi Teknis**\n",
        "\n",
        "1. Test Name: `recommender_system_test`\n",
        "2. Kelompok: A (kontrol), B (cara melakukan pembayaran baru)\n",
        "3. Tanggal Peluncuran: 7 Desember 2020\n",
        "4. Tanggal Berhenti Menerima Pengguna Baru: 21 Desember 2020\n",
        "5. Tanggal Berakhir: 1 Januari 2021\n",
        "6. Audience: 15% dari pengguna baru dari wilayah UE (Uni Eropa)\n",
        "7. Tujuan Uji Coba: Menguji perubahan terkait pengenalan sistem rekomendasi yang ditingkatkan.\n",
        "8. Hasil yang Diharapkan: Dalam waktu 14 hari sejak pendaftaran, pengguna akan menunjukkan peningkatan konversi ke tampilan halaman produk (event product_page), tampilan kartu produk (event product_card), dan pembelian (event purchase). Setiap tahap dari funnel product_page → product_card → purchase harus mengalami peningkatan minimal 10%.\n",
        "9. Jumlah Peserta yang Diharapkan: 6000 orang.\n",
        "\n",
        "**Deskripsi Data**\n",
        "\n",
        "* `ab_project_marketing_events_us.csv` — kelendar event marketing untuk tahun 2020\n",
        "* `final_ab_new_users_upd_us.csv` — seluruh pengguna yang mendaftar pada toko online dari tanggal 7 Desember - 21 Desember tahun 2020\n",
        "* `final_ab_events_upd_us.csv` — seluruh event untuk pengguna baru pada periode 7 Desember 2020 hingga 1 Januari 2021.\n",
        "* `final_ab_participants_upd_us.csv` — tabel terdiri dari test partisipasi\n",
        "\n",
        "**field record dari dataset `ab_project_marketing_events_us.csv`:**\n",
        "\n",
        "* `name` — nama marketing event\n",
        "* `regions` — wilayah mana yang akan diselenggarakan(ad campaign)\n",
        "* `start_dt` — tanggal mulai\n",
        "* `finish_dt` — tanggal berakhir(ad campaign)\n",
        "\n",
        "**field record dari dataset `final_ab_new_users_upd_us.csv`:**\n",
        "\n",
        "* `user_id`\n",
        "* `first_date` — tanggal daftar\n",
        "* `region`\n",
        "* `device` — perangkat yang digunakan untuk daftar\n",
        "\n",
        "**field record dari dataset `final_ab_events_upd_us.csv`:**\n",
        "\n",
        "* `user_id`\n",
        "* `event_dt` — tanggal dan waktu event\n",
        "* `event_name` — jenis event\n",
        "* `details` — data tambahan terhadap event (contohnya seperti: order total dalam kurs dollar untuk kolom event purchase)\n",
        "\n",
        "**field record dari dataset `final_ab_participants_upd_us.csv`:**\n",
        "\n",
        "* `user_id`\n",
        "* `ab_test` — nama test\n",
        "* `group` — kelompok test yang dimiliki"
      ]
    },
    {
      "cell_type": "markdown",
      "metadata": {
        "id": "VnhXliDIHOwG"
      },
      "source": [
        "# 1. Inisialisasi\n",
        "\n",
        "* Import library yang diperlukan."
      ]
    },
    {
      "cell_type": "code",
      "execution_count": null,
      "metadata": {
        "id": "Hvkc1tIOHOwH"
      },
      "outputs": [],
      "source": [
        "# list Import library yang diperlukan\n",
        "import pandas as pd\n",
        "import matplotlib.pyplot as plt\n",
        "import datetime as dt\n",
        "import seaborn as sns\n",
        "import numpy as np\n",
        "from scipy import stats as st\n",
        "from datetime import datetime, timedelta\n",
        "from statsmodels.stats.proportion import proportions_ztest\n",
        "from scipy.stats import norm"
      ]
    },
    {
      "cell_type": "markdown",
      "metadata": {
        "id": "tdSJnoJoHOwI"
      },
      "source": [
        "# 2. Memuat Dataset\n",
        "\n",
        "* Memuat data yang telah didefinsikan dan membuat variabel"
      ]
    },
    {
      "cell_type": "code",
      "execution_count": null,
      "metadata": {
        "id": "HsHcrQPsHOwJ"
      },
      "outputs": [],
      "source": [
        "# Memuat datasets\n",
        "proj_mkt_dataframe = pd.read_csv('/datasets/ab_project_marketing_events_us.csv')\n",
        "final_ab_new_users_dataframe = pd.read_csv('/datasets/final_ab_new_users_upd_us.csv')\n",
        "final_ab_events_dataframe = pd.read_csv('/datasets/final_ab_events_upd_us.csv')\n",
        "final_ab_participants_dataframe = pd.read_csv('/datasets/final_ab_participants_upd_us.csv')"
      ]
    },
    {
      "cell_type": "markdown",
      "metadata": {
        "id": "ut7J06AAHOwK"
      },
      "source": [
        "# 3. Mengeksplorasi Data\n",
        "\n",
        "* Meneelusuri data yang akan kita eksplorasi dan menemukan sebuah temuan untuk pengaruh analisis. Kita mulai tahapan ini sebagai Pra-pemrosesan data ke dalam sub bab."
      ]
    },
    {
      "cell_type": "markdown",
      "metadata": {
        "id": "yQEdcnmLHOwK"
      },
      "source": [
        "**Pra-pemrosesan Data proj_mkt_dataframe**\n",
        "\n",
        "* Melakukan pra-pemrosesan data untuk proj_mkt_dataframe"
      ]
    },
    {
      "cell_type": "code",
      "execution_count": null,
      "metadata": {
        "id": "7CllLI9-HOwL",
        "outputId": "061820e3-0c5c-40a1-dc6a-a99696f76d1d"
      },
      "outputs": [
        {
          "name": "stdout",
          "output_type": "stream",
          "text": [
            "<class 'pandas.core.frame.DataFrame'>\n",
            "RangeIndex: 14 entries, 0 to 13\n",
            "Data columns (total 4 columns):\n",
            " #   Column     Non-Null Count  Dtype \n",
            "---  ------     --------------  ----- \n",
            " 0   name       14 non-null     object\n",
            " 1   regions    14 non-null     object\n",
            " 2   start_dt   14 non-null     object\n",
            " 3   finish_dt  14 non-null     object\n",
            "dtypes: object(4)\n",
            "memory usage: 576.0+ bytes\n"
          ]
        }
      ],
      "source": [
        "# Menampilkan informasi hasil proj_mkt_dataframe\n",
        "proj_mkt_dataframe.info()"
      ]
    },
    {
      "cell_type": "markdown",
      "metadata": {
        "id": "Vh7MDf88HOwM"
      },
      "source": [
        "**<font color=\"green\">Temuan</font>**\n",
        "\n",
        "* Tidak ada nilai yang hilang untuk dataframe proj_mkt_dataframe."
      ]
    },
    {
      "cell_type": "code",
      "execution_count": null,
      "metadata": {
        "id": "31cGYLEpHOwM",
        "outputId": "d6763d90-28c5-4000-e0c5-20be8fbcd34c"
      },
      "outputs": [
        {
          "data": {
            "text/html": [
              "<div>\n",
              "<style scoped>\n",
              "    .dataframe tbody tr th:only-of-type {\n",
              "        vertical-align: middle;\n",
              "    }\n",
              "\n",
              "    .dataframe tbody tr th {\n",
              "        vertical-align: top;\n",
              "    }\n",
              "\n",
              "    .dataframe thead th {\n",
              "        text-align: right;\n",
              "    }\n",
              "</style>\n",
              "<table border=\"1\" class=\"dataframe\">\n",
              "  <thead>\n",
              "    <tr style=\"text-align: right;\">\n",
              "      <th></th>\n",
              "      <th>name</th>\n",
              "      <th>regions</th>\n",
              "      <th>start_dt</th>\n",
              "      <th>finish_dt</th>\n",
              "    </tr>\n",
              "  </thead>\n",
              "  <tbody>\n",
              "    <tr>\n",
              "      <th>0</th>\n",
              "      <td>Christmas&amp;New Year Promo</td>\n",
              "      <td>EU, N.America</td>\n",
              "      <td>2020-12-25</td>\n",
              "      <td>2021-01-03</td>\n",
              "    </tr>\n",
              "    <tr>\n",
              "      <th>1</th>\n",
              "      <td>St. Valentine's Day Giveaway</td>\n",
              "      <td>EU, CIS, APAC, N.America</td>\n",
              "      <td>2020-02-14</td>\n",
              "      <td>2020-02-16</td>\n",
              "    </tr>\n",
              "    <tr>\n",
              "      <th>2</th>\n",
              "      <td>St. Patric's Day Promo</td>\n",
              "      <td>EU, N.America</td>\n",
              "      <td>2020-03-17</td>\n",
              "      <td>2020-03-19</td>\n",
              "    </tr>\n",
              "    <tr>\n",
              "      <th>3</th>\n",
              "      <td>Easter Promo</td>\n",
              "      <td>EU, CIS, APAC, N.America</td>\n",
              "      <td>2020-04-12</td>\n",
              "      <td>2020-04-19</td>\n",
              "    </tr>\n",
              "    <tr>\n",
              "      <th>4</th>\n",
              "      <td>4th of July Promo</td>\n",
              "      <td>N.America</td>\n",
              "      <td>2020-07-04</td>\n",
              "      <td>2020-07-11</td>\n",
              "    </tr>\n",
              "    <tr>\n",
              "      <th>5</th>\n",
              "      <td>Black Friday Ads Campaign</td>\n",
              "      <td>EU, CIS, APAC, N.America</td>\n",
              "      <td>2020-11-26</td>\n",
              "      <td>2020-12-01</td>\n",
              "    </tr>\n",
              "    <tr>\n",
              "      <th>6</th>\n",
              "      <td>Chinese New Year Promo</td>\n",
              "      <td>APAC</td>\n",
              "      <td>2020-01-25</td>\n",
              "      <td>2020-02-07</td>\n",
              "    </tr>\n",
              "    <tr>\n",
              "      <th>7</th>\n",
              "      <td>Labor day (May 1st) Ads Campaign</td>\n",
              "      <td>EU, CIS, APAC</td>\n",
              "      <td>2020-05-01</td>\n",
              "      <td>2020-05-03</td>\n",
              "    </tr>\n",
              "    <tr>\n",
              "      <th>8</th>\n",
              "      <td>International Women's Day Promo</td>\n",
              "      <td>EU, CIS, APAC</td>\n",
              "      <td>2020-03-08</td>\n",
              "      <td>2020-03-10</td>\n",
              "    </tr>\n",
              "    <tr>\n",
              "      <th>9</th>\n",
              "      <td>Victory Day CIS (May 9th) Event</td>\n",
              "      <td>CIS</td>\n",
              "      <td>2020-05-09</td>\n",
              "      <td>2020-05-11</td>\n",
              "    </tr>\n",
              "    <tr>\n",
              "      <th>10</th>\n",
              "      <td>CIS New Year Gift Lottery</td>\n",
              "      <td>CIS</td>\n",
              "      <td>2020-12-30</td>\n",
              "      <td>2021-01-07</td>\n",
              "    </tr>\n",
              "    <tr>\n",
              "      <th>11</th>\n",
              "      <td>Dragon Boat Festival Giveaway</td>\n",
              "      <td>APAC</td>\n",
              "      <td>2020-06-25</td>\n",
              "      <td>2020-07-01</td>\n",
              "    </tr>\n",
              "    <tr>\n",
              "      <th>12</th>\n",
              "      <td>Single's Day Gift Promo</td>\n",
              "      <td>APAC</td>\n",
              "      <td>2020-11-11</td>\n",
              "      <td>2020-11-12</td>\n",
              "    </tr>\n",
              "    <tr>\n",
              "      <th>13</th>\n",
              "      <td>Chinese Moon Festival</td>\n",
              "      <td>APAC</td>\n",
              "      <td>2020-10-01</td>\n",
              "      <td>2020-10-07</td>\n",
              "    </tr>\n",
              "  </tbody>\n",
              "</table>\n",
              "</div>"
            ],
            "text/plain": [
              "                                name                   regions    start_dt  \\\n",
              "0           Christmas&New Year Promo             EU, N.America  2020-12-25   \n",
              "1       St. Valentine's Day Giveaway  EU, CIS, APAC, N.America  2020-02-14   \n",
              "2             St. Patric's Day Promo             EU, N.America  2020-03-17   \n",
              "3                       Easter Promo  EU, CIS, APAC, N.America  2020-04-12   \n",
              "4                  4th of July Promo                 N.America  2020-07-04   \n",
              "5          Black Friday Ads Campaign  EU, CIS, APAC, N.America  2020-11-26   \n",
              "6             Chinese New Year Promo                      APAC  2020-01-25   \n",
              "7   Labor day (May 1st) Ads Campaign             EU, CIS, APAC  2020-05-01   \n",
              "8    International Women's Day Promo             EU, CIS, APAC  2020-03-08   \n",
              "9    Victory Day CIS (May 9th) Event                       CIS  2020-05-09   \n",
              "10         CIS New Year Gift Lottery                       CIS  2020-12-30   \n",
              "11     Dragon Boat Festival Giveaway                      APAC  2020-06-25   \n",
              "12           Single's Day Gift Promo                      APAC  2020-11-11   \n",
              "13             Chinese Moon Festival                      APAC  2020-10-01   \n",
              "\n",
              "     finish_dt  \n",
              "0   2021-01-03  \n",
              "1   2020-02-16  \n",
              "2   2020-03-19  \n",
              "3   2020-04-19  \n",
              "4   2020-07-11  \n",
              "5   2020-12-01  \n",
              "6   2020-02-07  \n",
              "7   2020-05-03  \n",
              "8   2020-03-10  \n",
              "9   2020-05-11  \n",
              "10  2021-01-07  \n",
              "11  2020-07-01  \n",
              "12  2020-11-12  \n",
              "13  2020-10-07  "
            ]
          },
          "execution_count": 5,
          "metadata": {},
          "output_type": "execute_result"
        }
      ],
      "source": [
        "# Menampilkan informasi hasil proj_mkt_dataframe\n",
        "proj_mkt_dataframe"
      ]
    },
    {
      "cell_type": "markdown",
      "metadata": {
        "id": "SX0xhLciHOwM"
      },
      "source": [
        "**<font color=\"green\">Temuan</font>**\n",
        "\n",
        "* Kita akan ubah tipe data start_dt dan finish_dt menjadi to_datetime"
      ]
    },
    {
      "cell_type": "code",
      "execution_count": null,
      "metadata": {
        "id": "9503Qur7HOwN"
      },
      "outputs": [],
      "source": [
        "# Mengubah tipe data pada dataframe proj_mkt_dataframe\n",
        "proj_mkt_dataframe['start_dt'] = pd.to_datetime(proj_mkt_dataframe['start_dt'])\n",
        "proj_mkt_dataframe['finish_dt'] = pd.to_datetime(proj_mkt_dataframe['finish_dt'])"
      ]
    },
    {
      "cell_type": "code",
      "execution_count": null,
      "metadata": {
        "id": "DHDxvvAZHOwN",
        "outputId": "4c61850c-c65b-4688-ff7a-3f2ccb8597d5"
      },
      "outputs": [
        {
          "name": "stdout",
          "output_type": "stream",
          "text": [
            "<class 'pandas.core.frame.DataFrame'>\n",
            "RangeIndex: 14 entries, 0 to 13\n",
            "Data columns (total 4 columns):\n",
            " #   Column     Non-Null Count  Dtype         \n",
            "---  ------     --------------  -----         \n",
            " 0   name       14 non-null     object        \n",
            " 1   regions    14 non-null     object        \n",
            " 2   start_dt   14 non-null     datetime64[ns]\n",
            " 3   finish_dt  14 non-null     datetime64[ns]\n",
            "dtypes: datetime64[ns](2), object(2)\n",
            "memory usage: 576.0+ bytes\n"
          ]
        }
      ],
      "source": [
        "# Menampilkan kembali informasi proj_mkt_dataframe\n",
        "proj_mkt_dataframe.info()"
      ]
    },
    {
      "cell_type": "code",
      "execution_count": null,
      "metadata": {
        "id": "FC2OQJZAHOwN",
        "outputId": "64497aa6-beb9-46cc-d7c4-bca359a95468"
      },
      "outputs": [
        {
          "data": {
            "text/html": [
              "<div>\n",
              "<style scoped>\n",
              "    .dataframe tbody tr th:only-of-type {\n",
              "        vertical-align: middle;\n",
              "    }\n",
              "\n",
              "    .dataframe tbody tr th {\n",
              "        vertical-align: top;\n",
              "    }\n",
              "\n",
              "    .dataframe thead th {\n",
              "        text-align: right;\n",
              "    }\n",
              "</style>\n",
              "<table border=\"1\" class=\"dataframe\">\n",
              "  <thead>\n",
              "    <tr style=\"text-align: right;\">\n",
              "      <th></th>\n",
              "      <th>name</th>\n",
              "      <th>regions</th>\n",
              "      <th>start_dt</th>\n",
              "      <th>finish_dt</th>\n",
              "    </tr>\n",
              "  </thead>\n",
              "  <tbody>\n",
              "    <tr>\n",
              "      <th>0</th>\n",
              "      <td>Christmas&amp;New Year Promo</td>\n",
              "      <td>EU, N.America</td>\n",
              "      <td>2020-12-25</td>\n",
              "      <td>2021-01-03</td>\n",
              "    </tr>\n",
              "    <tr>\n",
              "      <th>1</th>\n",
              "      <td>St. Valentine's Day Giveaway</td>\n",
              "      <td>EU, CIS, APAC, N.America</td>\n",
              "      <td>2020-02-14</td>\n",
              "      <td>2020-02-16</td>\n",
              "    </tr>\n",
              "    <tr>\n",
              "      <th>2</th>\n",
              "      <td>St. Patric's Day Promo</td>\n",
              "      <td>EU, N.America</td>\n",
              "      <td>2020-03-17</td>\n",
              "      <td>2020-03-19</td>\n",
              "    </tr>\n",
              "    <tr>\n",
              "      <th>3</th>\n",
              "      <td>Easter Promo</td>\n",
              "      <td>EU, CIS, APAC, N.America</td>\n",
              "      <td>2020-04-12</td>\n",
              "      <td>2020-04-19</td>\n",
              "    </tr>\n",
              "    <tr>\n",
              "      <th>4</th>\n",
              "      <td>4th of July Promo</td>\n",
              "      <td>N.America</td>\n",
              "      <td>2020-07-04</td>\n",
              "      <td>2020-07-11</td>\n",
              "    </tr>\n",
              "    <tr>\n",
              "      <th>5</th>\n",
              "      <td>Black Friday Ads Campaign</td>\n",
              "      <td>EU, CIS, APAC, N.America</td>\n",
              "      <td>2020-11-26</td>\n",
              "      <td>2020-12-01</td>\n",
              "    </tr>\n",
              "    <tr>\n",
              "      <th>6</th>\n",
              "      <td>Chinese New Year Promo</td>\n",
              "      <td>APAC</td>\n",
              "      <td>2020-01-25</td>\n",
              "      <td>2020-02-07</td>\n",
              "    </tr>\n",
              "    <tr>\n",
              "      <th>7</th>\n",
              "      <td>Labor day (May 1st) Ads Campaign</td>\n",
              "      <td>EU, CIS, APAC</td>\n",
              "      <td>2020-05-01</td>\n",
              "      <td>2020-05-03</td>\n",
              "    </tr>\n",
              "    <tr>\n",
              "      <th>8</th>\n",
              "      <td>International Women's Day Promo</td>\n",
              "      <td>EU, CIS, APAC</td>\n",
              "      <td>2020-03-08</td>\n",
              "      <td>2020-03-10</td>\n",
              "    </tr>\n",
              "    <tr>\n",
              "      <th>9</th>\n",
              "      <td>Victory Day CIS (May 9th) Event</td>\n",
              "      <td>CIS</td>\n",
              "      <td>2020-05-09</td>\n",
              "      <td>2020-05-11</td>\n",
              "    </tr>\n",
              "    <tr>\n",
              "      <th>10</th>\n",
              "      <td>CIS New Year Gift Lottery</td>\n",
              "      <td>CIS</td>\n",
              "      <td>2020-12-30</td>\n",
              "      <td>2021-01-07</td>\n",
              "    </tr>\n",
              "    <tr>\n",
              "      <th>11</th>\n",
              "      <td>Dragon Boat Festival Giveaway</td>\n",
              "      <td>APAC</td>\n",
              "      <td>2020-06-25</td>\n",
              "      <td>2020-07-01</td>\n",
              "    </tr>\n",
              "    <tr>\n",
              "      <th>12</th>\n",
              "      <td>Single's Day Gift Promo</td>\n",
              "      <td>APAC</td>\n",
              "      <td>2020-11-11</td>\n",
              "      <td>2020-11-12</td>\n",
              "    </tr>\n",
              "    <tr>\n",
              "      <th>13</th>\n",
              "      <td>Chinese Moon Festival</td>\n",
              "      <td>APAC</td>\n",
              "      <td>2020-10-01</td>\n",
              "      <td>2020-10-07</td>\n",
              "    </tr>\n",
              "  </tbody>\n",
              "</table>\n",
              "</div>"
            ],
            "text/plain": [
              "                                name                   regions   start_dt  \\\n",
              "0           Christmas&New Year Promo             EU, N.America 2020-12-25   \n",
              "1       St. Valentine's Day Giveaway  EU, CIS, APAC, N.America 2020-02-14   \n",
              "2             St. Patric's Day Promo             EU, N.America 2020-03-17   \n",
              "3                       Easter Promo  EU, CIS, APAC, N.America 2020-04-12   \n",
              "4                  4th of July Promo                 N.America 2020-07-04   \n",
              "5          Black Friday Ads Campaign  EU, CIS, APAC, N.America 2020-11-26   \n",
              "6             Chinese New Year Promo                      APAC 2020-01-25   \n",
              "7   Labor day (May 1st) Ads Campaign             EU, CIS, APAC 2020-05-01   \n",
              "8    International Women's Day Promo             EU, CIS, APAC 2020-03-08   \n",
              "9    Victory Day CIS (May 9th) Event                       CIS 2020-05-09   \n",
              "10         CIS New Year Gift Lottery                       CIS 2020-12-30   \n",
              "11     Dragon Boat Festival Giveaway                      APAC 2020-06-25   \n",
              "12           Single's Day Gift Promo                      APAC 2020-11-11   \n",
              "13             Chinese Moon Festival                      APAC 2020-10-01   \n",
              "\n",
              "    finish_dt  \n",
              "0  2021-01-03  \n",
              "1  2020-02-16  \n",
              "2  2020-03-19  \n",
              "3  2020-04-19  \n",
              "4  2020-07-11  \n",
              "5  2020-12-01  \n",
              "6  2020-02-07  \n",
              "7  2020-05-03  \n",
              "8  2020-03-10  \n",
              "9  2020-05-11  \n",
              "10 2021-01-07  \n",
              "11 2020-07-01  \n",
              "12 2020-11-12  \n",
              "13 2020-10-07  "
            ]
          },
          "execution_count": 8,
          "metadata": {},
          "output_type": "execute_result"
        }
      ],
      "source": [
        "# Menampilkan kembali isi dari proj_mkt_dataframe\n",
        "proj_mkt_dataframe"
      ]
    },
    {
      "cell_type": "markdown",
      "metadata": {
        "id": "gJqQ6n-IHOwO"
      },
      "source": [
        "**<font color=\"green\">Temuan</font>**\n",
        "\n",
        "* Tidak ada nilai yang hilang untuk `proj_mkt_dataframe`, namun kita telah mengubah tipe data date menjadi to_datetime untuk kolom yang dibutuhkan konversi."
      ]
    },
    {
      "cell_type": "markdown",
      "metadata": {
        "id": "zQn4LqP7HOwO"
      },
      "source": [
        "**Pra-pemrosesan Data final_ab_new_users_dataframe**\n",
        "\n",
        "* Melakukan pra-pemrosesan data untuk final_ab_new_users_dataframe"
      ]
    },
    {
      "cell_type": "code",
      "execution_count": null,
      "metadata": {
        "id": "zt8O2NFkHOwP",
        "outputId": "005155b6-2738-4b97-d00e-bfa38fd51ca4"
      },
      "outputs": [
        {
          "name": "stdout",
          "output_type": "stream",
          "text": [
            "<class 'pandas.core.frame.DataFrame'>\n",
            "RangeIndex: 58703 entries, 0 to 58702\n",
            "Data columns (total 4 columns):\n",
            " #   Column      Non-Null Count  Dtype \n",
            "---  ------      --------------  ----- \n",
            " 0   user_id     58703 non-null  object\n",
            " 1   first_date  58703 non-null  object\n",
            " 2   region      58703 non-null  object\n",
            " 3   device      58703 non-null  object\n",
            "dtypes: object(4)\n",
            "memory usage: 1.8+ MB\n"
          ]
        }
      ],
      "source": [
        "# Menampilkan informasi hasil dari dataframe final_ab_new_users_dataframe\n",
        "final_ab_new_users_dataframe.info()"
      ]
    },
    {
      "cell_type": "markdown",
      "metadata": {
        "id": "gEkueDuwHOwP"
      },
      "source": [
        "**<font color=\"green\">Temuan</font>**\n",
        "\n",
        "* Tidak ditemukan nilai yang hilang untuk dataframe final_ab_new_users_dataframe"
      ]
    },
    {
      "cell_type": "code",
      "execution_count": null,
      "metadata": {
        "id": "5DEkNVnSHOwP",
        "outputId": "3a66a520-219c-4ec1-d0d8-c0ef3119e924"
      },
      "outputs": [
        {
          "data": {
            "text/html": [
              "<div>\n",
              "<style scoped>\n",
              "    .dataframe tbody tr th:only-of-type {\n",
              "        vertical-align: middle;\n",
              "    }\n",
              "\n",
              "    .dataframe tbody tr th {\n",
              "        vertical-align: top;\n",
              "    }\n",
              "\n",
              "    .dataframe thead th {\n",
              "        text-align: right;\n",
              "    }\n",
              "</style>\n",
              "<table border=\"1\" class=\"dataframe\">\n",
              "  <thead>\n",
              "    <tr style=\"text-align: right;\">\n",
              "      <th></th>\n",
              "      <th>user_id</th>\n",
              "      <th>first_date</th>\n",
              "      <th>region</th>\n",
              "      <th>device</th>\n",
              "    </tr>\n",
              "  </thead>\n",
              "  <tbody>\n",
              "    <tr>\n",
              "      <th>0</th>\n",
              "      <td>D72A72121175D8BE</td>\n",
              "      <td>2020-12-07</td>\n",
              "      <td>EU</td>\n",
              "      <td>PC</td>\n",
              "    </tr>\n",
              "    <tr>\n",
              "      <th>1</th>\n",
              "      <td>F1C668619DFE6E65</td>\n",
              "      <td>2020-12-07</td>\n",
              "      <td>N.America</td>\n",
              "      <td>Android</td>\n",
              "    </tr>\n",
              "    <tr>\n",
              "      <th>2</th>\n",
              "      <td>2E1BF1D4C37EA01F</td>\n",
              "      <td>2020-12-07</td>\n",
              "      <td>EU</td>\n",
              "      <td>PC</td>\n",
              "    </tr>\n",
              "    <tr>\n",
              "      <th>3</th>\n",
              "      <td>50734A22C0C63768</td>\n",
              "      <td>2020-12-07</td>\n",
              "      <td>EU</td>\n",
              "      <td>iPhone</td>\n",
              "    </tr>\n",
              "    <tr>\n",
              "      <th>4</th>\n",
              "      <td>E1BDDCE0DAFA2679</td>\n",
              "      <td>2020-12-07</td>\n",
              "      <td>N.America</td>\n",
              "      <td>iPhone</td>\n",
              "    </tr>\n",
              "    <tr>\n",
              "      <th>...</th>\n",
              "      <td>...</td>\n",
              "      <td>...</td>\n",
              "      <td>...</td>\n",
              "      <td>...</td>\n",
              "    </tr>\n",
              "    <tr>\n",
              "      <th>58698</th>\n",
              "      <td>1DB53B933257165D</td>\n",
              "      <td>2020-12-20</td>\n",
              "      <td>EU</td>\n",
              "      <td>Android</td>\n",
              "    </tr>\n",
              "    <tr>\n",
              "      <th>58699</th>\n",
              "      <td>538643EB4527ED03</td>\n",
              "      <td>2020-12-20</td>\n",
              "      <td>EU</td>\n",
              "      <td>Mac</td>\n",
              "    </tr>\n",
              "    <tr>\n",
              "      <th>58700</th>\n",
              "      <td>7ADEE837D5D8CBBD</td>\n",
              "      <td>2020-12-20</td>\n",
              "      <td>EU</td>\n",
              "      <td>PC</td>\n",
              "    </tr>\n",
              "    <tr>\n",
              "      <th>58701</th>\n",
              "      <td>1C7D23927835213F</td>\n",
              "      <td>2020-12-20</td>\n",
              "      <td>EU</td>\n",
              "      <td>iPhone</td>\n",
              "    </tr>\n",
              "    <tr>\n",
              "      <th>58702</th>\n",
              "      <td>8F04273BB2860229</td>\n",
              "      <td>2020-12-20</td>\n",
              "      <td>EU</td>\n",
              "      <td>Android</td>\n",
              "    </tr>\n",
              "  </tbody>\n",
              "</table>\n",
              "<p>58703 rows × 4 columns</p>\n",
              "</div>"
            ],
            "text/plain": [
              "                user_id  first_date     region   device\n",
              "0      D72A72121175D8BE  2020-12-07         EU       PC\n",
              "1      F1C668619DFE6E65  2020-12-07  N.America  Android\n",
              "2      2E1BF1D4C37EA01F  2020-12-07         EU       PC\n",
              "3      50734A22C0C63768  2020-12-07         EU   iPhone\n",
              "4      E1BDDCE0DAFA2679  2020-12-07  N.America   iPhone\n",
              "...                 ...         ...        ...      ...\n",
              "58698  1DB53B933257165D  2020-12-20         EU  Android\n",
              "58699  538643EB4527ED03  2020-12-20         EU      Mac\n",
              "58700  7ADEE837D5D8CBBD  2020-12-20         EU       PC\n",
              "58701  1C7D23927835213F  2020-12-20         EU   iPhone\n",
              "58702  8F04273BB2860229  2020-12-20         EU  Android\n",
              "\n",
              "[58703 rows x 4 columns]"
            ]
          },
          "execution_count": 11,
          "metadata": {},
          "output_type": "execute_result"
        }
      ],
      "source": [
        "# Menampilkan isi dari dataframe final_ab_new_users_dataframe\n",
        "final_ab_new_users_dataframe"
      ]
    },
    {
      "cell_type": "markdown",
      "metadata": {
        "id": "r2kNokzjHOwQ"
      },
      "source": [
        "**<font color=\"green\">Temuan</font>**\n",
        "\n",
        "* Kita akan mengubah tipe data first_date menjadi to_datetime."
      ]
    },
    {
      "cell_type": "code",
      "execution_count": null,
      "metadata": {
        "id": "1-RuXTQAHOwQ"
      },
      "outputs": [],
      "source": [
        "# Mengubah tipe data kolom first_date\n",
        "final_ab_new_users_dataframe['first_date'] = pd.to_datetime(final_ab_new_users_dataframe['first_date'])"
      ]
    },
    {
      "cell_type": "code",
      "execution_count": null,
      "metadata": {
        "id": "uCYQdU5nHOwQ",
        "outputId": "af51157a-bffe-4bd2-ffc8-ee27b5aa8aec"
      },
      "outputs": [
        {
          "name": "stdout",
          "output_type": "stream",
          "text": [
            "<class 'pandas.core.frame.DataFrame'>\n",
            "RangeIndex: 58703 entries, 0 to 58702\n",
            "Data columns (total 4 columns):\n",
            " #   Column      Non-Null Count  Dtype         \n",
            "---  ------      --------------  -----         \n",
            " 0   user_id     58703 non-null  object        \n",
            " 1   first_date  58703 non-null  datetime64[ns]\n",
            " 2   region      58703 non-null  object        \n",
            " 3   device      58703 non-null  object        \n",
            "dtypes: datetime64[ns](1), object(3)\n",
            "memory usage: 1.8+ MB\n"
          ]
        }
      ],
      "source": [
        "# Menampilkan kembali informasi dataframe final_ab_new_users_dataframe\n",
        "final_ab_new_users_dataframe.info()"
      ]
    },
    {
      "cell_type": "code",
      "execution_count": null,
      "metadata": {
        "id": "cB_D6qndHOwQ",
        "outputId": "73d92779-7654-4e03-db78-2012bba8e9b3"
      },
      "outputs": [
        {
          "data": {
            "text/html": [
              "<div>\n",
              "<style scoped>\n",
              "    .dataframe tbody tr th:only-of-type {\n",
              "        vertical-align: middle;\n",
              "    }\n",
              "\n",
              "    .dataframe tbody tr th {\n",
              "        vertical-align: top;\n",
              "    }\n",
              "\n",
              "    .dataframe thead th {\n",
              "        text-align: right;\n",
              "    }\n",
              "</style>\n",
              "<table border=\"1\" class=\"dataframe\">\n",
              "  <thead>\n",
              "    <tr style=\"text-align: right;\">\n",
              "      <th></th>\n",
              "      <th>user_id</th>\n",
              "      <th>first_date</th>\n",
              "      <th>region</th>\n",
              "      <th>device</th>\n",
              "    </tr>\n",
              "  </thead>\n",
              "  <tbody>\n",
              "    <tr>\n",
              "      <th>0</th>\n",
              "      <td>D72A72121175D8BE</td>\n",
              "      <td>2020-12-07</td>\n",
              "      <td>EU</td>\n",
              "      <td>PC</td>\n",
              "    </tr>\n",
              "    <tr>\n",
              "      <th>1</th>\n",
              "      <td>F1C668619DFE6E65</td>\n",
              "      <td>2020-12-07</td>\n",
              "      <td>N.America</td>\n",
              "      <td>Android</td>\n",
              "    </tr>\n",
              "    <tr>\n",
              "      <th>2</th>\n",
              "      <td>2E1BF1D4C37EA01F</td>\n",
              "      <td>2020-12-07</td>\n",
              "      <td>EU</td>\n",
              "      <td>PC</td>\n",
              "    </tr>\n",
              "    <tr>\n",
              "      <th>3</th>\n",
              "      <td>50734A22C0C63768</td>\n",
              "      <td>2020-12-07</td>\n",
              "      <td>EU</td>\n",
              "      <td>iPhone</td>\n",
              "    </tr>\n",
              "    <tr>\n",
              "      <th>4</th>\n",
              "      <td>E1BDDCE0DAFA2679</td>\n",
              "      <td>2020-12-07</td>\n",
              "      <td>N.America</td>\n",
              "      <td>iPhone</td>\n",
              "    </tr>\n",
              "    <tr>\n",
              "      <th>...</th>\n",
              "      <td>...</td>\n",
              "      <td>...</td>\n",
              "      <td>...</td>\n",
              "      <td>...</td>\n",
              "    </tr>\n",
              "    <tr>\n",
              "      <th>58698</th>\n",
              "      <td>1DB53B933257165D</td>\n",
              "      <td>2020-12-20</td>\n",
              "      <td>EU</td>\n",
              "      <td>Android</td>\n",
              "    </tr>\n",
              "    <tr>\n",
              "      <th>58699</th>\n",
              "      <td>538643EB4527ED03</td>\n",
              "      <td>2020-12-20</td>\n",
              "      <td>EU</td>\n",
              "      <td>Mac</td>\n",
              "    </tr>\n",
              "    <tr>\n",
              "      <th>58700</th>\n",
              "      <td>7ADEE837D5D8CBBD</td>\n",
              "      <td>2020-12-20</td>\n",
              "      <td>EU</td>\n",
              "      <td>PC</td>\n",
              "    </tr>\n",
              "    <tr>\n",
              "      <th>58701</th>\n",
              "      <td>1C7D23927835213F</td>\n",
              "      <td>2020-12-20</td>\n",
              "      <td>EU</td>\n",
              "      <td>iPhone</td>\n",
              "    </tr>\n",
              "    <tr>\n",
              "      <th>58702</th>\n",
              "      <td>8F04273BB2860229</td>\n",
              "      <td>2020-12-20</td>\n",
              "      <td>EU</td>\n",
              "      <td>Android</td>\n",
              "    </tr>\n",
              "  </tbody>\n",
              "</table>\n",
              "<p>58703 rows × 4 columns</p>\n",
              "</div>"
            ],
            "text/plain": [
              "                user_id first_date     region   device\n",
              "0      D72A72121175D8BE 2020-12-07         EU       PC\n",
              "1      F1C668619DFE6E65 2020-12-07  N.America  Android\n",
              "2      2E1BF1D4C37EA01F 2020-12-07         EU       PC\n",
              "3      50734A22C0C63768 2020-12-07         EU   iPhone\n",
              "4      E1BDDCE0DAFA2679 2020-12-07  N.America   iPhone\n",
              "...                 ...        ...        ...      ...\n",
              "58698  1DB53B933257165D 2020-12-20         EU  Android\n",
              "58699  538643EB4527ED03 2020-12-20         EU      Mac\n",
              "58700  7ADEE837D5D8CBBD 2020-12-20         EU       PC\n",
              "58701  1C7D23927835213F 2020-12-20         EU   iPhone\n",
              "58702  8F04273BB2860229 2020-12-20         EU  Android\n",
              "\n",
              "[58703 rows x 4 columns]"
            ]
          },
          "execution_count": 14,
          "metadata": {},
          "output_type": "execute_result"
        }
      ],
      "source": [
        "# Memeriksa kembali isi dari dataframe final_ab_new_users_dataframe\n",
        "final_ab_new_users_dataframe"
      ]
    },
    {
      "cell_type": "markdown",
      "metadata": {
        "id": "0dO4B1wNHOwR"
      },
      "source": [
        "**<font color=\"green\">Kesimpulan Sementara</font>**\n",
        "\n",
        "* Tidak ada nilai yang hilang untuk dataframe `final_ab_new_users_dataframe` dan hanya satu kolom yang kita konversi menjadi to_datetime yaitu first_date."
      ]
    },
    {
      "cell_type": "markdown",
      "metadata": {
        "id": "ei8LhgefHOwR"
      },
      "source": [
        "**Pra-pemrosesan Data final_ab_events_dataframe**\n",
        "\n",
        "* Melakukan pra-pemrosesan data untuk final_ab_events_dataframe"
      ]
    },
    {
      "cell_type": "code",
      "execution_count": null,
      "metadata": {
        "id": "WPFYDyGuHOwR",
        "outputId": "867d0880-b4b2-479d-c350-9f4aea32c69e"
      },
      "outputs": [
        {
          "name": "stdout",
          "output_type": "stream",
          "text": [
            "<class 'pandas.core.frame.DataFrame'>\n",
            "RangeIndex: 423761 entries, 0 to 423760\n",
            "Data columns (total 4 columns):\n",
            " #   Column      Non-Null Count   Dtype  \n",
            "---  ------      --------------   -----  \n",
            " 0   user_id     423761 non-null  object \n",
            " 1   event_dt    423761 non-null  object \n",
            " 2   event_name  423761 non-null  object \n",
            " 3   details     60314 non-null   float64\n",
            "dtypes: float64(1), object(3)\n",
            "memory usage: 12.9+ MB\n"
          ]
        }
      ],
      "source": [
        "# Menampilkan informasi dataframe final_ab_events_dataframe\n",
        "final_ab_events_dataframe.info()"
      ]
    },
    {
      "cell_type": "markdown",
      "metadata": {
        "id": "irWFW4rWHOwR"
      },
      "source": [
        "**<font color=\"green\">Temuan</font>**\n",
        "\n",
        "* Terdapat nilai hilang pada kolom `details`.\n",
        "\n",
        "Mari kita amati seberapa besar pesentase hilangnya nilai tersebut."
      ]
    },
    {
      "cell_type": "code",
      "execution_count": null,
      "metadata": {
        "id": "ADZNbnA0HOwS",
        "outputId": "f5f39aa9-623f-4fc6-b26a-e301887acb1b"
      },
      "outputs": [
        {
          "data": {
            "text/plain": [
              "user_id        0.000000\n",
              "event_dt       0.000000\n",
              "event_name     0.000000\n",
              "details       85.766977\n",
              "dtype: float64"
            ]
          },
          "execution_count": 17,
          "metadata": {},
          "output_type": "execute_result"
        }
      ],
      "source": [
        "missing_percentage = final_ab_events_dataframe.isnull().mean() * 100\n",
        "missing_percentage"
      ]
    },
    {
      "cell_type": "markdown",
      "metadata": {
        "id": "5rGaYvOlHOwT"
      },
      "source": [
        "**<font color=\"green\">Temuan</font>**\n",
        "\n",
        "* Nilai yang hilang sangat besar. Hal tersebut akan memungkinkan sangat berpengaruh pada kepentingan analisis."
      ]
    },
    {
      "cell_type": "code",
      "execution_count": null,
      "metadata": {
        "id": "hN8iy9HZHOwT",
        "outputId": "b7257798-bf17-467c-c8f1-4cb8966d1e5b"
      },
      "outputs": [
        {
          "data": {
            "text/html": [
              "<div>\n",
              "<style scoped>\n",
              "    .dataframe tbody tr th:only-of-type {\n",
              "        vertical-align: middle;\n",
              "    }\n",
              "\n",
              "    .dataframe tbody tr th {\n",
              "        vertical-align: top;\n",
              "    }\n",
              "\n",
              "    .dataframe thead th {\n",
              "        text-align: right;\n",
              "    }\n",
              "</style>\n",
              "<table border=\"1\" class=\"dataframe\">\n",
              "  <thead>\n",
              "    <tr style=\"text-align: right;\">\n",
              "      <th></th>\n",
              "      <th>user_id</th>\n",
              "      <th>event_dt</th>\n",
              "      <th>event_name</th>\n",
              "      <th>details</th>\n",
              "    </tr>\n",
              "  </thead>\n",
              "  <tbody>\n",
              "    <tr>\n",
              "      <th>0</th>\n",
              "      <td>E1BDDCE0DAFA2679</td>\n",
              "      <td>2020-12-07 20:22:03</td>\n",
              "      <td>purchase</td>\n",
              "      <td>99.99</td>\n",
              "    </tr>\n",
              "    <tr>\n",
              "      <th>1</th>\n",
              "      <td>7B6452F081F49504</td>\n",
              "      <td>2020-12-07 09:22:53</td>\n",
              "      <td>purchase</td>\n",
              "      <td>9.99</td>\n",
              "    </tr>\n",
              "    <tr>\n",
              "      <th>2</th>\n",
              "      <td>9CD9F34546DF254C</td>\n",
              "      <td>2020-12-07 12:59:29</td>\n",
              "      <td>purchase</td>\n",
              "      <td>4.99</td>\n",
              "    </tr>\n",
              "    <tr>\n",
              "      <th>3</th>\n",
              "      <td>96F27A054B191457</td>\n",
              "      <td>2020-12-07 04:02:40</td>\n",
              "      <td>purchase</td>\n",
              "      <td>4.99</td>\n",
              "    </tr>\n",
              "    <tr>\n",
              "      <th>4</th>\n",
              "      <td>1FD7660FDF94CA1F</td>\n",
              "      <td>2020-12-07 10:15:09</td>\n",
              "      <td>purchase</td>\n",
              "      <td>4.99</td>\n",
              "    </tr>\n",
              "    <tr>\n",
              "      <th>...</th>\n",
              "      <td>...</td>\n",
              "      <td>...</td>\n",
              "      <td>...</td>\n",
              "      <td>...</td>\n",
              "    </tr>\n",
              "    <tr>\n",
              "      <th>423756</th>\n",
              "      <td>245E85F65C358E08</td>\n",
              "      <td>2020-12-30 19:35:55</td>\n",
              "      <td>login</td>\n",
              "      <td>NaN</td>\n",
              "    </tr>\n",
              "    <tr>\n",
              "      <th>423757</th>\n",
              "      <td>9385A108F5A0A7A7</td>\n",
              "      <td>2020-12-30 10:54:15</td>\n",
              "      <td>login</td>\n",
              "      <td>NaN</td>\n",
              "    </tr>\n",
              "    <tr>\n",
              "      <th>423758</th>\n",
              "      <td>DB650B7559AC6EAC</td>\n",
              "      <td>2020-12-30 10:59:09</td>\n",
              "      <td>login</td>\n",
              "      <td>NaN</td>\n",
              "    </tr>\n",
              "    <tr>\n",
              "      <th>423759</th>\n",
              "      <td>F80C9BDDEA02E53C</td>\n",
              "      <td>2020-12-30 09:53:39</td>\n",
              "      <td>login</td>\n",
              "      <td>NaN</td>\n",
              "    </tr>\n",
              "    <tr>\n",
              "      <th>423760</th>\n",
              "      <td>7AEC61159B672CC5</td>\n",
              "      <td>2020-12-30 11:36:13</td>\n",
              "      <td>login</td>\n",
              "      <td>NaN</td>\n",
              "    </tr>\n",
              "  </tbody>\n",
              "</table>\n",
              "<p>423761 rows × 4 columns</p>\n",
              "</div>"
            ],
            "text/plain": [
              "                 user_id             event_dt event_name  details\n",
              "0       E1BDDCE0DAFA2679  2020-12-07 20:22:03   purchase    99.99\n",
              "1       7B6452F081F49504  2020-12-07 09:22:53   purchase     9.99\n",
              "2       9CD9F34546DF254C  2020-12-07 12:59:29   purchase     4.99\n",
              "3       96F27A054B191457  2020-12-07 04:02:40   purchase     4.99\n",
              "4       1FD7660FDF94CA1F  2020-12-07 10:15:09   purchase     4.99\n",
              "...                  ...                  ...        ...      ...\n",
              "423756  245E85F65C358E08  2020-12-30 19:35:55      login      NaN\n",
              "423757  9385A108F5A0A7A7  2020-12-30 10:54:15      login      NaN\n",
              "423758  DB650B7559AC6EAC  2020-12-30 10:59:09      login      NaN\n",
              "423759  F80C9BDDEA02E53C  2020-12-30 09:53:39      login      NaN\n",
              "423760  7AEC61159B672CC5  2020-12-30 11:36:13      login      NaN\n",
              "\n",
              "[423761 rows x 4 columns]"
            ]
          },
          "execution_count": 19,
          "metadata": {},
          "output_type": "execute_result"
        }
      ],
      "source": [
        "# Menampilkan isi dari dataframe final_ab_events_dataframe\n",
        "final_ab_events_dataframe"
      ]
    },
    {
      "cell_type": "code",
      "execution_count": null,
      "metadata": {
        "id": "6JvkHUcAHOwT",
        "outputId": "e4a39b51-5718-4a22-fd21-fa6fe98eeb5d"
      },
      "outputs": [
        {
          "data": {
            "text/html": [
              "<div>\n",
              "<style scoped>\n",
              "    .dataframe tbody tr th:only-of-type {\n",
              "        vertical-align: middle;\n",
              "    }\n",
              "\n",
              "    .dataframe tbody tr th {\n",
              "        vertical-align: top;\n",
              "    }\n",
              "\n",
              "    .dataframe thead th {\n",
              "        text-align: right;\n",
              "    }\n",
              "</style>\n",
              "<table border=\"1\" class=\"dataframe\">\n",
              "  <thead>\n",
              "    <tr style=\"text-align: right;\">\n",
              "      <th></th>\n",
              "      <th>user_id</th>\n",
              "      <th>event_dt</th>\n",
              "      <th>event_name</th>\n",
              "      <th>details</th>\n",
              "    </tr>\n",
              "  </thead>\n",
              "  <tbody>\n",
              "    <tr>\n",
              "      <th>0</th>\n",
              "      <td>E1BDDCE0DAFA2679</td>\n",
              "      <td>2020-12-07 20:22:03</td>\n",
              "      <td>purchase</td>\n",
              "      <td>99.99</td>\n",
              "    </tr>\n",
              "    <tr>\n",
              "      <th>1</th>\n",
              "      <td>7B6452F081F49504</td>\n",
              "      <td>2020-12-07 09:22:53</td>\n",
              "      <td>purchase</td>\n",
              "      <td>9.99</td>\n",
              "    </tr>\n",
              "    <tr>\n",
              "      <th>2</th>\n",
              "      <td>9CD9F34546DF254C</td>\n",
              "      <td>2020-12-07 12:59:29</td>\n",
              "      <td>purchase</td>\n",
              "      <td>4.99</td>\n",
              "    </tr>\n",
              "    <tr>\n",
              "      <th>3</th>\n",
              "      <td>96F27A054B191457</td>\n",
              "      <td>2020-12-07 04:02:40</td>\n",
              "      <td>purchase</td>\n",
              "      <td>4.99</td>\n",
              "    </tr>\n",
              "    <tr>\n",
              "      <th>4</th>\n",
              "      <td>1FD7660FDF94CA1F</td>\n",
              "      <td>2020-12-07 10:15:09</td>\n",
              "      <td>purchase</td>\n",
              "      <td>4.99</td>\n",
              "    </tr>\n",
              "    <tr>\n",
              "      <th>5</th>\n",
              "      <td>831887FE7F2D6CBA</td>\n",
              "      <td>2020-12-07 06:50:29</td>\n",
              "      <td>purchase</td>\n",
              "      <td>4.99</td>\n",
              "    </tr>\n",
              "    <tr>\n",
              "      <th>6</th>\n",
              "      <td>6B2F726BFD5F8220</td>\n",
              "      <td>2020-12-07 11:27:42</td>\n",
              "      <td>purchase</td>\n",
              "      <td>4.99</td>\n",
              "    </tr>\n",
              "    <tr>\n",
              "      <th>7</th>\n",
              "      <td>BEB37715AACF53B0</td>\n",
              "      <td>2020-12-07 04:26:15</td>\n",
              "      <td>purchase</td>\n",
              "      <td>4.99</td>\n",
              "    </tr>\n",
              "    <tr>\n",
              "      <th>8</th>\n",
              "      <td>B5FA27F582227197</td>\n",
              "      <td>2020-12-07 01:46:37</td>\n",
              "      <td>purchase</td>\n",
              "      <td>4.99</td>\n",
              "    </tr>\n",
              "    <tr>\n",
              "      <th>9</th>\n",
              "      <td>A92195E3CFB83DBD</td>\n",
              "      <td>2020-12-07 00:32:07</td>\n",
              "      <td>purchase</td>\n",
              "      <td>4.99</td>\n",
              "    </tr>\n",
              "    <tr>\n",
              "      <th>10</th>\n",
              "      <td>E2E76A8B3389127C</td>\n",
              "      <td>2020-12-07 15:39:32</td>\n",
              "      <td>purchase</td>\n",
              "      <td>4.99</td>\n",
              "    </tr>\n",
              "    <tr>\n",
              "      <th>11</th>\n",
              "      <td>354D653172FF2A2D</td>\n",
              "      <td>2020-12-07 15:45:11</td>\n",
              "      <td>purchase</td>\n",
              "      <td>4.99</td>\n",
              "    </tr>\n",
              "    <tr>\n",
              "      <th>12</th>\n",
              "      <td>7FCD34F47C13A9AC</td>\n",
              "      <td>2020-12-07 22:06:13</td>\n",
              "      <td>purchase</td>\n",
              "      <td>9.99</td>\n",
              "    </tr>\n",
              "    <tr>\n",
              "      <th>13</th>\n",
              "      <td>0313C457F07C339E</td>\n",
              "      <td>2020-12-07 13:10:48</td>\n",
              "      <td>purchase</td>\n",
              "      <td>9.99</td>\n",
              "    </tr>\n",
              "    <tr>\n",
              "      <th>14</th>\n",
              "      <td>214902A9BAAF3422</td>\n",
              "      <td>2020-12-07 19:31:44</td>\n",
              "      <td>purchase</td>\n",
              "      <td>4.99</td>\n",
              "    </tr>\n",
              "    <tr>\n",
              "      <th>15</th>\n",
              "      <td>AE6B95B9A7C6380E</td>\n",
              "      <td>2020-12-07 19:09:12</td>\n",
              "      <td>purchase</td>\n",
              "      <td>4.99</td>\n",
              "    </tr>\n",
              "    <tr>\n",
              "      <th>16</th>\n",
              "      <td>EC9AFCC18F1CF6D9</td>\n",
              "      <td>2020-12-07 19:19:00</td>\n",
              "      <td>purchase</td>\n",
              "      <td>4.99</td>\n",
              "    </tr>\n",
              "    <tr>\n",
              "      <th>17</th>\n",
              "      <td>3C5DD0288AC4FE23</td>\n",
              "      <td>2020-12-07 19:42:40</td>\n",
              "      <td>purchase</td>\n",
              "      <td>4.99</td>\n",
              "    </tr>\n",
              "    <tr>\n",
              "      <th>18</th>\n",
              "      <td>649ECF69EC552A56</td>\n",
              "      <td>2020-12-07 06:19:31</td>\n",
              "      <td>purchase</td>\n",
              "      <td>4.99</td>\n",
              "    </tr>\n",
              "    <tr>\n",
              "      <th>19</th>\n",
              "      <td>9C31B4124B3AE217</td>\n",
              "      <td>2020-12-07 21:38:36</td>\n",
              "      <td>purchase</td>\n",
              "      <td>4.99</td>\n",
              "    </tr>\n",
              "    <tr>\n",
              "      <th>20</th>\n",
              "      <td>5C4BA5C457BC114A</td>\n",
              "      <td>2020-12-07 05:37:13</td>\n",
              "      <td>purchase</td>\n",
              "      <td>9.99</td>\n",
              "    </tr>\n",
              "    <tr>\n",
              "      <th>21</th>\n",
              "      <td>FCD216B91578B8DC</td>\n",
              "      <td>2020-12-07 18:24:41</td>\n",
              "      <td>purchase</td>\n",
              "      <td>99.99</td>\n",
              "    </tr>\n",
              "    <tr>\n",
              "      <th>22</th>\n",
              "      <td>435506A7A2265BBD</td>\n",
              "      <td>2020-12-07 11:53:57</td>\n",
              "      <td>purchase</td>\n",
              "      <td>4.99</td>\n",
              "    </tr>\n",
              "    <tr>\n",
              "      <th>23</th>\n",
              "      <td>909B249EB165910F</td>\n",
              "      <td>2020-12-07 07:06:01</td>\n",
              "      <td>purchase</td>\n",
              "      <td>9.99</td>\n",
              "    </tr>\n",
              "    <tr>\n",
              "      <th>24</th>\n",
              "      <td>ED61425DAC3E345C</td>\n",
              "      <td>2020-12-07 01:03:27</td>\n",
              "      <td>purchase</td>\n",
              "      <td>4.99</td>\n",
              "    </tr>\n",
              "    <tr>\n",
              "      <th>25</th>\n",
              "      <td>C39E95E709714A06</td>\n",
              "      <td>2020-12-07 09:07:20</td>\n",
              "      <td>purchase</td>\n",
              "      <td>4.99</td>\n",
              "    </tr>\n",
              "    <tr>\n",
              "      <th>26</th>\n",
              "      <td>DE83B085136CBF2D</td>\n",
              "      <td>2020-12-07 20:10:44</td>\n",
              "      <td>purchase</td>\n",
              "      <td>99.99</td>\n",
              "    </tr>\n",
              "    <tr>\n",
              "      <th>27</th>\n",
              "      <td>F42CA236F49AB93B</td>\n",
              "      <td>2020-12-07 21:50:34</td>\n",
              "      <td>purchase</td>\n",
              "      <td>4.99</td>\n",
              "    </tr>\n",
              "    <tr>\n",
              "      <th>28</th>\n",
              "      <td>AA77BDA8996FE1B8</td>\n",
              "      <td>2020-12-07 08:24:41</td>\n",
              "      <td>purchase</td>\n",
              "      <td>9.99</td>\n",
              "    </tr>\n",
              "    <tr>\n",
              "      <th>29</th>\n",
              "      <td>5E9543D6EB27D7D7</td>\n",
              "      <td>2020-12-07 21:37:33</td>\n",
              "      <td>purchase</td>\n",
              "      <td>4.99</td>\n",
              "    </tr>\n",
              "    <tr>\n",
              "      <th>30</th>\n",
              "      <td>78B3AFBB700310CC</td>\n",
              "      <td>2020-12-07 23:44:09</td>\n",
              "      <td>purchase</td>\n",
              "      <td>4.99</td>\n",
              "    </tr>\n",
              "    <tr>\n",
              "      <th>31</th>\n",
              "      <td>80CEAF824A1F3E28</td>\n",
              "      <td>2020-12-07 15:54:06</td>\n",
              "      <td>purchase</td>\n",
              "      <td>499.99</td>\n",
              "    </tr>\n",
              "    <tr>\n",
              "      <th>32</th>\n",
              "      <td>5EB044CECD378F75</td>\n",
              "      <td>2020-12-07 02:50:18</td>\n",
              "      <td>purchase</td>\n",
              "      <td>4.99</td>\n",
              "    </tr>\n",
              "    <tr>\n",
              "      <th>33</th>\n",
              "      <td>C0A95CA2E9CC8009</td>\n",
              "      <td>2020-12-07 03:37:41</td>\n",
              "      <td>purchase</td>\n",
              "      <td>4.99</td>\n",
              "    </tr>\n",
              "    <tr>\n",
              "      <th>34</th>\n",
              "      <td>992ADF277CCE9349</td>\n",
              "      <td>2020-12-07 12:05:45</td>\n",
              "      <td>purchase</td>\n",
              "      <td>4.99</td>\n",
              "    </tr>\n",
              "  </tbody>\n",
              "</table>\n",
              "</div>"
            ],
            "text/plain": [
              "             user_id            event_dt event_name  details\n",
              "0   E1BDDCE0DAFA2679 2020-12-07 20:22:03   purchase    99.99\n",
              "1   7B6452F081F49504 2020-12-07 09:22:53   purchase     9.99\n",
              "2   9CD9F34546DF254C 2020-12-07 12:59:29   purchase     4.99\n",
              "3   96F27A054B191457 2020-12-07 04:02:40   purchase     4.99\n",
              "4   1FD7660FDF94CA1F 2020-12-07 10:15:09   purchase     4.99\n",
              "5   831887FE7F2D6CBA 2020-12-07 06:50:29   purchase     4.99\n",
              "6   6B2F726BFD5F8220 2020-12-07 11:27:42   purchase     4.99\n",
              "7   BEB37715AACF53B0 2020-12-07 04:26:15   purchase     4.99\n",
              "8   B5FA27F582227197 2020-12-07 01:46:37   purchase     4.99\n",
              "9   A92195E3CFB83DBD 2020-12-07 00:32:07   purchase     4.99\n",
              "10  E2E76A8B3389127C 2020-12-07 15:39:32   purchase     4.99\n",
              "11  354D653172FF2A2D 2020-12-07 15:45:11   purchase     4.99\n",
              "12  7FCD34F47C13A9AC 2020-12-07 22:06:13   purchase     9.99\n",
              "13  0313C457F07C339E 2020-12-07 13:10:48   purchase     9.99\n",
              "14  214902A9BAAF3422 2020-12-07 19:31:44   purchase     4.99\n",
              "15  AE6B95B9A7C6380E 2020-12-07 19:09:12   purchase     4.99\n",
              "16  EC9AFCC18F1CF6D9 2020-12-07 19:19:00   purchase     4.99\n",
              "17  3C5DD0288AC4FE23 2020-12-07 19:42:40   purchase     4.99\n",
              "18  649ECF69EC552A56 2020-12-07 06:19:31   purchase     4.99\n",
              "19  9C31B4124B3AE217 2020-12-07 21:38:36   purchase     4.99\n",
              "20  5C4BA5C457BC114A 2020-12-07 05:37:13   purchase     9.99\n",
              "21  FCD216B91578B8DC 2020-12-07 18:24:41   purchase    99.99\n",
              "22  435506A7A2265BBD 2020-12-07 11:53:57   purchase     4.99\n",
              "23  909B249EB165910F 2020-12-07 07:06:01   purchase     9.99\n",
              "24  ED61425DAC3E345C 2020-12-07 01:03:27   purchase     4.99\n",
              "25  C39E95E709714A06 2020-12-07 09:07:20   purchase     4.99\n",
              "26  DE83B085136CBF2D 2020-12-07 20:10:44   purchase    99.99\n",
              "27  F42CA236F49AB93B 2020-12-07 21:50:34   purchase     4.99\n",
              "28  AA77BDA8996FE1B8 2020-12-07 08:24:41   purchase     9.99\n",
              "29  5E9543D6EB27D7D7 2020-12-07 21:37:33   purchase     4.99\n",
              "30  78B3AFBB700310CC 2020-12-07 23:44:09   purchase     4.99\n",
              "31  80CEAF824A1F3E28 2020-12-07 15:54:06   purchase   499.99\n",
              "32  5EB044CECD378F75 2020-12-07 02:50:18   purchase     4.99\n",
              "33  C0A95CA2E9CC8009 2020-12-07 03:37:41   purchase     4.99\n",
              "34  992ADF277CCE9349 2020-12-07 12:05:45   purchase     4.99"
            ]
          },
          "execution_count": 29,
          "metadata": {},
          "output_type": "execute_result"
        }
      ],
      "source": [
        "# Menampilkan isi dari dataframe final_ab_events_dataframe\n",
        "final_ab_events_dataframe.head(35)"
      ]
    },
    {
      "cell_type": "markdown",
      "metadata": {
        "id": "lQb70_5ZHOwU"
      },
      "source": [
        "**<font color=\"green\">Temuan</font>**\n",
        "\n",
        "* Apakah selain hilangnya nilai kita bisa melihat ada outliers di dalamnya? Seperti nilai 499.99"
      ]
    },
    {
      "cell_type": "code",
      "execution_count": null,
      "metadata": {
        "id": "J-JfjdoNHOwU",
        "outputId": "bd67c97b-d865-454f-815b-47b7414fe772"
      },
      "outputs": [
        {
          "data": {
            "text/html": [
              "<div>\n",
              "<style scoped>\n",
              "    .dataframe tbody tr th:only-of-type {\n",
              "        vertical-align: middle;\n",
              "    }\n",
              "\n",
              "    .dataframe tbody tr th {\n",
              "        vertical-align: top;\n",
              "    }\n",
              "\n",
              "    .dataframe thead th {\n",
              "        text-align: right;\n",
              "    }\n",
              "</style>\n",
              "<table border=\"1\" class=\"dataframe\">\n",
              "  <thead>\n",
              "    <tr style=\"text-align: right;\">\n",
              "      <th></th>\n",
              "      <th>user_id</th>\n",
              "      <th>event_dt</th>\n",
              "      <th>event_name</th>\n",
              "      <th>details</th>\n",
              "    </tr>\n",
              "  </thead>\n",
              "  <tbody>\n",
              "    <tr>\n",
              "      <th>423726</th>\n",
              "      <td>114953E781C03385</td>\n",
              "      <td>2020-12-30 19:45:10</td>\n",
              "      <td>login</td>\n",
              "      <td>NaN</td>\n",
              "    </tr>\n",
              "    <tr>\n",
              "      <th>423727</th>\n",
              "      <td>EC9AFCC18F1CF6D9</td>\n",
              "      <td>2020-12-30 16:26:24</td>\n",
              "      <td>login</td>\n",
              "      <td>NaN</td>\n",
              "    </tr>\n",
              "    <tr>\n",
              "      <th>423728</th>\n",
              "      <td>07C004DB8325E140</td>\n",
              "      <td>2020-12-30 22:39:42</td>\n",
              "      <td>login</td>\n",
              "      <td>NaN</td>\n",
              "    </tr>\n",
              "    <tr>\n",
              "      <th>423729</th>\n",
              "      <td>BFC2CBC616B6BF22</td>\n",
              "      <td>2020-12-30 11:30:11</td>\n",
              "      <td>login</td>\n",
              "      <td>NaN</td>\n",
              "    </tr>\n",
              "    <tr>\n",
              "      <th>423730</th>\n",
              "      <td>5C31C0607EFC3C98</td>\n",
              "      <td>2020-12-30 01:56:08</td>\n",
              "      <td>login</td>\n",
              "      <td>NaN</td>\n",
              "    </tr>\n",
              "    <tr>\n",
              "      <th>423731</th>\n",
              "      <td>56AF59723683AC41</td>\n",
              "      <td>2020-12-30 09:51:50</td>\n",
              "      <td>login</td>\n",
              "      <td>NaN</td>\n",
              "    </tr>\n",
              "    <tr>\n",
              "      <th>423732</th>\n",
              "      <td>EB0F26AAB494131C</td>\n",
              "      <td>2020-12-30 00:30:45</td>\n",
              "      <td>login</td>\n",
              "      <td>NaN</td>\n",
              "    </tr>\n",
              "    <tr>\n",
              "      <th>423733</th>\n",
              "      <td>75845C83258FBF73</td>\n",
              "      <td>2020-12-30 06:42:52</td>\n",
              "      <td>login</td>\n",
              "      <td>NaN</td>\n",
              "    </tr>\n",
              "    <tr>\n",
              "      <th>423734</th>\n",
              "      <td>F9452D9C3B463498</td>\n",
              "      <td>2020-12-30 20:41:37</td>\n",
              "      <td>login</td>\n",
              "      <td>NaN</td>\n",
              "    </tr>\n",
              "    <tr>\n",
              "      <th>423735</th>\n",
              "      <td>4584E51B99DE51AE</td>\n",
              "      <td>2020-12-30 07:39:32</td>\n",
              "      <td>login</td>\n",
              "      <td>NaN</td>\n",
              "    </tr>\n",
              "    <tr>\n",
              "      <th>423736</th>\n",
              "      <td>9DF4F595A906A0BA</td>\n",
              "      <td>2020-12-30 18:28:55</td>\n",
              "      <td>login</td>\n",
              "      <td>NaN</td>\n",
              "    </tr>\n",
              "    <tr>\n",
              "      <th>423737</th>\n",
              "      <td>58857F19A6C50900</td>\n",
              "      <td>2020-12-30 06:35:00</td>\n",
              "      <td>login</td>\n",
              "      <td>NaN</td>\n",
              "    </tr>\n",
              "    <tr>\n",
              "      <th>423738</th>\n",
              "      <td>EEB9E40200D9AD37</td>\n",
              "      <td>2020-12-30 12:19:58</td>\n",
              "      <td>login</td>\n",
              "      <td>NaN</td>\n",
              "    </tr>\n",
              "    <tr>\n",
              "      <th>423739</th>\n",
              "      <td>AA38EE1DBC2B4319</td>\n",
              "      <td>2020-12-30 16:47:56</td>\n",
              "      <td>login</td>\n",
              "      <td>NaN</td>\n",
              "    </tr>\n",
              "    <tr>\n",
              "      <th>423740</th>\n",
              "      <td>46BF35383C8FC507</td>\n",
              "      <td>2020-12-30 06:45:13</td>\n",
              "      <td>login</td>\n",
              "      <td>NaN</td>\n",
              "    </tr>\n",
              "    <tr>\n",
              "      <th>423741</th>\n",
              "      <td>5F11C890CBFBFC12</td>\n",
              "      <td>2020-12-30 18:51:46</td>\n",
              "      <td>login</td>\n",
              "      <td>NaN</td>\n",
              "    </tr>\n",
              "    <tr>\n",
              "      <th>423742</th>\n",
              "      <td>CE065914C815ADF6</td>\n",
              "      <td>2020-12-30 23:02:44</td>\n",
              "      <td>login</td>\n",
              "      <td>NaN</td>\n",
              "    </tr>\n",
              "    <tr>\n",
              "      <th>423743</th>\n",
              "      <td>09B67269EB574925</td>\n",
              "      <td>2020-12-30 03:19:10</td>\n",
              "      <td>login</td>\n",
              "      <td>NaN</td>\n",
              "    </tr>\n",
              "    <tr>\n",
              "      <th>423744</th>\n",
              "      <td>BA38083E4065AF28</td>\n",
              "      <td>2020-12-30 01:43:39</td>\n",
              "      <td>login</td>\n",
              "      <td>NaN</td>\n",
              "    </tr>\n",
              "    <tr>\n",
              "      <th>423745</th>\n",
              "      <td>580036429FA7B95D</td>\n",
              "      <td>2020-12-30 18:09:09</td>\n",
              "      <td>login</td>\n",
              "      <td>NaN</td>\n",
              "    </tr>\n",
              "    <tr>\n",
              "      <th>423746</th>\n",
              "      <td>FDCF970FE0A0E462</td>\n",
              "      <td>2020-12-30 15:26:13</td>\n",
              "      <td>login</td>\n",
              "      <td>NaN</td>\n",
              "    </tr>\n",
              "    <tr>\n",
              "      <th>423747</th>\n",
              "      <td>42786289BF63393C</td>\n",
              "      <td>2020-12-30 05:52:43</td>\n",
              "      <td>login</td>\n",
              "      <td>NaN</td>\n",
              "    </tr>\n",
              "    <tr>\n",
              "      <th>423748</th>\n",
              "      <td>8A3E8292D34AC2B0</td>\n",
              "      <td>2020-12-30 15:09:49</td>\n",
              "      <td>login</td>\n",
              "      <td>NaN</td>\n",
              "    </tr>\n",
              "    <tr>\n",
              "      <th>423749</th>\n",
              "      <td>2761935C2DD2794F</td>\n",
              "      <td>2020-12-30 16:51:29</td>\n",
              "      <td>login</td>\n",
              "      <td>NaN</td>\n",
              "    </tr>\n",
              "    <tr>\n",
              "      <th>423750</th>\n",
              "      <td>E0E5446B78A6520B</td>\n",
              "      <td>2020-12-30 23:36:30</td>\n",
              "      <td>login</td>\n",
              "      <td>NaN</td>\n",
              "    </tr>\n",
              "    <tr>\n",
              "      <th>423751</th>\n",
              "      <td>1455450835F72F5E</td>\n",
              "      <td>2020-12-30 09:27:10</td>\n",
              "      <td>login</td>\n",
              "      <td>NaN</td>\n",
              "    </tr>\n",
              "    <tr>\n",
              "      <th>423752</th>\n",
              "      <td>339C4C55021A83C6</td>\n",
              "      <td>2020-12-30 12:55:08</td>\n",
              "      <td>login</td>\n",
              "      <td>NaN</td>\n",
              "    </tr>\n",
              "    <tr>\n",
              "      <th>423753</th>\n",
              "      <td>33E7BCF696B41C7B</td>\n",
              "      <td>2020-12-30 12:21:24</td>\n",
              "      <td>login</td>\n",
              "      <td>NaN</td>\n",
              "    </tr>\n",
              "    <tr>\n",
              "      <th>423754</th>\n",
              "      <td>D1553B56FFA8974B</td>\n",
              "      <td>2020-12-30 03:15:35</td>\n",
              "      <td>login</td>\n",
              "      <td>NaN</td>\n",
              "    </tr>\n",
              "    <tr>\n",
              "      <th>423755</th>\n",
              "      <td>6181F3835EBE66BF</td>\n",
              "      <td>2020-12-30 12:00:00</td>\n",
              "      <td>login</td>\n",
              "      <td>NaN</td>\n",
              "    </tr>\n",
              "    <tr>\n",
              "      <th>423756</th>\n",
              "      <td>245E85F65C358E08</td>\n",
              "      <td>2020-12-30 19:35:55</td>\n",
              "      <td>login</td>\n",
              "      <td>NaN</td>\n",
              "    </tr>\n",
              "    <tr>\n",
              "      <th>423757</th>\n",
              "      <td>9385A108F5A0A7A7</td>\n",
              "      <td>2020-12-30 10:54:15</td>\n",
              "      <td>login</td>\n",
              "      <td>NaN</td>\n",
              "    </tr>\n",
              "    <tr>\n",
              "      <th>423758</th>\n",
              "      <td>DB650B7559AC6EAC</td>\n",
              "      <td>2020-12-30 10:59:09</td>\n",
              "      <td>login</td>\n",
              "      <td>NaN</td>\n",
              "    </tr>\n",
              "    <tr>\n",
              "      <th>423759</th>\n",
              "      <td>F80C9BDDEA02E53C</td>\n",
              "      <td>2020-12-30 09:53:39</td>\n",
              "      <td>login</td>\n",
              "      <td>NaN</td>\n",
              "    </tr>\n",
              "    <tr>\n",
              "      <th>423760</th>\n",
              "      <td>7AEC61159B672CC5</td>\n",
              "      <td>2020-12-30 11:36:13</td>\n",
              "      <td>login</td>\n",
              "      <td>NaN</td>\n",
              "    </tr>\n",
              "  </tbody>\n",
              "</table>\n",
              "</div>"
            ],
            "text/plain": [
              "                 user_id            event_dt event_name  details\n",
              "423726  114953E781C03385 2020-12-30 19:45:10      login      NaN\n",
              "423727  EC9AFCC18F1CF6D9 2020-12-30 16:26:24      login      NaN\n",
              "423728  07C004DB8325E140 2020-12-30 22:39:42      login      NaN\n",
              "423729  BFC2CBC616B6BF22 2020-12-30 11:30:11      login      NaN\n",
              "423730  5C31C0607EFC3C98 2020-12-30 01:56:08      login      NaN\n",
              "423731  56AF59723683AC41 2020-12-30 09:51:50      login      NaN\n",
              "423732  EB0F26AAB494131C 2020-12-30 00:30:45      login      NaN\n",
              "423733  75845C83258FBF73 2020-12-30 06:42:52      login      NaN\n",
              "423734  F9452D9C3B463498 2020-12-30 20:41:37      login      NaN\n",
              "423735  4584E51B99DE51AE 2020-12-30 07:39:32      login      NaN\n",
              "423736  9DF4F595A906A0BA 2020-12-30 18:28:55      login      NaN\n",
              "423737  58857F19A6C50900 2020-12-30 06:35:00      login      NaN\n",
              "423738  EEB9E40200D9AD37 2020-12-30 12:19:58      login      NaN\n",
              "423739  AA38EE1DBC2B4319 2020-12-30 16:47:56      login      NaN\n",
              "423740  46BF35383C8FC507 2020-12-30 06:45:13      login      NaN\n",
              "423741  5F11C890CBFBFC12 2020-12-30 18:51:46      login      NaN\n",
              "423742  CE065914C815ADF6 2020-12-30 23:02:44      login      NaN\n",
              "423743  09B67269EB574925 2020-12-30 03:19:10      login      NaN\n",
              "423744  BA38083E4065AF28 2020-12-30 01:43:39      login      NaN\n",
              "423745  580036429FA7B95D 2020-12-30 18:09:09      login      NaN\n",
              "423746  FDCF970FE0A0E462 2020-12-30 15:26:13      login      NaN\n",
              "423747  42786289BF63393C 2020-12-30 05:52:43      login      NaN\n",
              "423748  8A3E8292D34AC2B0 2020-12-30 15:09:49      login      NaN\n",
              "423749  2761935C2DD2794F 2020-12-30 16:51:29      login      NaN\n",
              "423750  E0E5446B78A6520B 2020-12-30 23:36:30      login      NaN\n",
              "423751  1455450835F72F5E 2020-12-30 09:27:10      login      NaN\n",
              "423752  339C4C55021A83C6 2020-12-30 12:55:08      login      NaN\n",
              "423753  33E7BCF696B41C7B 2020-12-30 12:21:24      login      NaN\n",
              "423754  D1553B56FFA8974B 2020-12-30 03:15:35      login      NaN\n",
              "423755  6181F3835EBE66BF 2020-12-30 12:00:00      login      NaN\n",
              "423756  245E85F65C358E08 2020-12-30 19:35:55      login      NaN\n",
              "423757  9385A108F5A0A7A7 2020-12-30 10:54:15      login      NaN\n",
              "423758  DB650B7559AC6EAC 2020-12-30 10:59:09      login      NaN\n",
              "423759  F80C9BDDEA02E53C 2020-12-30 09:53:39      login      NaN\n",
              "423760  7AEC61159B672CC5 2020-12-30 11:36:13      login      NaN"
            ]
          },
          "execution_count": 30,
          "metadata": {},
          "output_type": "execute_result"
        }
      ],
      "source": [
        "# Menampilkan isi dari dataframe final_ab_events_dataframe\n",
        "final_ab_events_dataframe.tail(35)"
      ]
    },
    {
      "cell_type": "markdown",
      "metadata": {
        "id": "3Xo5xahOHOwe"
      },
      "source": [
        "**<font color=\"green\">Temuan</font>**\n",
        "\n",
        "* Kita harus mengetahui event apa saja yang dimiliki untuk melakukan proses. Jika kita lihat bahwa details terhadap nilai purchase dalam kolom event, bisa dipastikan itu adalah sebuah jumlah uang yang dikeluarkan. Hal ini dikarenakan nilai details adalah float."
      ]
    },
    {
      "cell_type": "code",
      "execution_count": null,
      "metadata": {
        "id": "NL2x28q3HOwe"
      },
      "outputs": [],
      "source": [
        "# Menampilkan nilai unik untuk kolom event_name\n",
        "unique_event_names = final_ab_events_dataframe['event_name'].unique()"
      ]
    },
    {
      "cell_type": "code",
      "execution_count": null,
      "metadata": {
        "id": "jV1bV2f5HOwe",
        "outputId": "43a6063d-261e-4cb6-9756-803a68e233c7"
      },
      "outputs": [
        {
          "data": {
            "text/plain": [
              "array(['purchase', 'product_cart', 'product_page', 'login'], dtype=object)"
            ]
          },
          "execution_count": 24,
          "metadata": {},
          "output_type": "execute_result"
        }
      ],
      "source": [
        "unique_event_names"
      ]
    },
    {
      "cell_type": "code",
      "execution_count": null,
      "metadata": {
        "id": "lInGKktZHOwf",
        "outputId": "7f098bda-36f7-4bd1-8a7a-4b50ce94a522"
      },
      "outputs": [
        {
          "data": {
            "text/html": [
              "<div>\n",
              "<style scoped>\n",
              "    .dataframe tbody tr th:only-of-type {\n",
              "        vertical-align: middle;\n",
              "    }\n",
              "\n",
              "    .dataframe tbody tr th {\n",
              "        vertical-align: top;\n",
              "    }\n",
              "\n",
              "    .dataframe thead th {\n",
              "        text-align: right;\n",
              "    }\n",
              "</style>\n",
              "<table border=\"1\" class=\"dataframe\">\n",
              "  <thead>\n",
              "    <tr style=\"text-align: right;\">\n",
              "      <th></th>\n",
              "      <th>user_id</th>\n",
              "      <th>event_dt</th>\n",
              "      <th>event_name</th>\n",
              "      <th>details</th>\n",
              "    </tr>\n",
              "  </thead>\n",
              "  <tbody>\n",
              "    <tr>\n",
              "      <th>0</th>\n",
              "      <td>E1BDDCE0DAFA2679</td>\n",
              "      <td>2020-12-07 20:22:03</td>\n",
              "      <td>purchase</td>\n",
              "      <td>99.99</td>\n",
              "    </tr>\n",
              "    <tr>\n",
              "      <th>1</th>\n",
              "      <td>7B6452F081F49504</td>\n",
              "      <td>2020-12-07 09:22:53</td>\n",
              "      <td>purchase</td>\n",
              "      <td>9.99</td>\n",
              "    </tr>\n",
              "    <tr>\n",
              "      <th>2</th>\n",
              "      <td>9CD9F34546DF254C</td>\n",
              "      <td>2020-12-07 12:59:29</td>\n",
              "      <td>purchase</td>\n",
              "      <td>4.99</td>\n",
              "    </tr>\n",
              "    <tr>\n",
              "      <th>3</th>\n",
              "      <td>96F27A054B191457</td>\n",
              "      <td>2020-12-07 04:02:40</td>\n",
              "      <td>purchase</td>\n",
              "      <td>4.99</td>\n",
              "    </tr>\n",
              "    <tr>\n",
              "      <th>4</th>\n",
              "      <td>1FD7660FDF94CA1F</td>\n",
              "      <td>2020-12-07 10:15:09</td>\n",
              "      <td>purchase</td>\n",
              "      <td>4.99</td>\n",
              "    </tr>\n",
              "    <tr>\n",
              "      <th>...</th>\n",
              "      <td>...</td>\n",
              "      <td>...</td>\n",
              "      <td>...</td>\n",
              "      <td>...</td>\n",
              "    </tr>\n",
              "    <tr>\n",
              "      <th>60309</th>\n",
              "      <td>1455450835F72F5E</td>\n",
              "      <td>2020-12-30 09:27:10</td>\n",
              "      <td>purchase</td>\n",
              "      <td>4.99</td>\n",
              "    </tr>\n",
              "    <tr>\n",
              "      <th>60310</th>\n",
              "      <td>339C4C55021A83C6</td>\n",
              "      <td>2020-12-30 12:55:08</td>\n",
              "      <td>purchase</td>\n",
              "      <td>9.99</td>\n",
              "    </tr>\n",
              "    <tr>\n",
              "      <th>60311</th>\n",
              "      <td>D1553B56FFA8974B</td>\n",
              "      <td>2020-12-30 03:15:35</td>\n",
              "      <td>purchase</td>\n",
              "      <td>4.99</td>\n",
              "    </tr>\n",
              "    <tr>\n",
              "      <th>60312</th>\n",
              "      <td>245E85F65C358E08</td>\n",
              "      <td>2020-12-30 19:35:55</td>\n",
              "      <td>purchase</td>\n",
              "      <td>9.99</td>\n",
              "    </tr>\n",
              "    <tr>\n",
              "      <th>60313</th>\n",
              "      <td>F80C9BDDEA02E53C</td>\n",
              "      <td>2020-12-30 09:53:39</td>\n",
              "      <td>purchase</td>\n",
              "      <td>4.99</td>\n",
              "    </tr>\n",
              "  </tbody>\n",
              "</table>\n",
              "<p>60314 rows × 4 columns</p>\n",
              "</div>"
            ],
            "text/plain": [
              "                user_id             event_dt event_name  details\n",
              "0      E1BDDCE0DAFA2679  2020-12-07 20:22:03   purchase    99.99\n",
              "1      7B6452F081F49504  2020-12-07 09:22:53   purchase     9.99\n",
              "2      9CD9F34546DF254C  2020-12-07 12:59:29   purchase     4.99\n",
              "3      96F27A054B191457  2020-12-07 04:02:40   purchase     4.99\n",
              "4      1FD7660FDF94CA1F  2020-12-07 10:15:09   purchase     4.99\n",
              "...                 ...                  ...        ...      ...\n",
              "60309  1455450835F72F5E  2020-12-30 09:27:10   purchase     4.99\n",
              "60310  339C4C55021A83C6  2020-12-30 12:55:08   purchase     9.99\n",
              "60311  D1553B56FFA8974B  2020-12-30 03:15:35   purchase     4.99\n",
              "60312  245E85F65C358E08  2020-12-30 19:35:55   purchase     9.99\n",
              "60313  F80C9BDDEA02E53C  2020-12-30 09:53:39   purchase     4.99\n",
              "\n",
              "[60314 rows x 4 columns]"
            ]
          },
          "execution_count": 25,
          "metadata": {},
          "output_type": "execute_result"
        }
      ],
      "source": [
        "final_ab_events_dataframe[final_ab_events_dataframe['event_name'] ==  'purchase']"
      ]
    },
    {
      "cell_type": "markdown",
      "metadata": {
        "id": "3SvPXAeXHOwf"
      },
      "source": [
        "**<font color=\"green\">Temuan</font>**\n",
        "\n",
        "* Bisa dipastikan yang memiliki nilai kosong hanyalah `product_cart`, `product_page`, dan `login`. Kita jangan mengisi nilai kosong terlebih dahulu, karena kita wajib mengetahui keterkaitan antara nilai-nilai tersebut. Karena nilai purchase memiliki jumlah nilai yang pas hilang nya yaitu 60314 dari 423761."
      ]
    },
    {
      "cell_type": "code",
      "execution_count": null,
      "metadata": {
        "id": "wtFSoBA1HOwf"
      },
      "outputs": [],
      "source": [
        "# Mengubah tipe data event_dt untuk dataframe final_ab_events_dataframe\n",
        "final_ab_events_dataframe['event_dt'] = pd.to_datetime(final_ab_events_dataframe['event_dt'])"
      ]
    },
    {
      "cell_type": "code",
      "execution_count": null,
      "metadata": {
        "id": "G7qTMZHRHOwf",
        "outputId": "e9296d3b-322d-46a0-ee35-53ba1a6bb7e2"
      },
      "outputs": [
        {
          "name": "stdout",
          "output_type": "stream",
          "text": [
            "<class 'pandas.core.frame.DataFrame'>\n",
            "RangeIndex: 423761 entries, 0 to 423760\n",
            "Data columns (total 4 columns):\n",
            " #   Column      Non-Null Count   Dtype         \n",
            "---  ------      --------------   -----         \n",
            " 0   user_id     423761 non-null  object        \n",
            " 1   event_dt    423761 non-null  datetime64[ns]\n",
            " 2   event_name  423761 non-null  object        \n",
            " 3   details     60314 non-null   float64       \n",
            "dtypes: datetime64[ns](1), float64(1), object(2)\n",
            "memory usage: 12.9+ MB\n"
          ]
        }
      ],
      "source": [
        "# Menampilkan informasi final_ab_events_df\n",
        "final_ab_events_dataframe.info()"
      ]
    },
    {
      "cell_type": "code",
      "execution_count": null,
      "metadata": {
        "id": "NMmULUGTHOwg",
        "outputId": "26810063-a97b-40b6-985d-a62e0f7a990a"
      },
      "outputs": [
        {
          "data": {
            "text/html": [
              "<div>\n",
              "<style scoped>\n",
              "    .dataframe tbody tr th:only-of-type {\n",
              "        vertical-align: middle;\n",
              "    }\n",
              "\n",
              "    .dataframe tbody tr th {\n",
              "        vertical-align: top;\n",
              "    }\n",
              "\n",
              "    .dataframe thead th {\n",
              "        text-align: right;\n",
              "    }\n",
              "</style>\n",
              "<table border=\"1\" class=\"dataframe\">\n",
              "  <thead>\n",
              "    <tr style=\"text-align: right;\">\n",
              "      <th></th>\n",
              "      <th>user_id</th>\n",
              "      <th>event_dt</th>\n",
              "      <th>event_name</th>\n",
              "      <th>details</th>\n",
              "    </tr>\n",
              "  </thead>\n",
              "  <tbody>\n",
              "    <tr>\n",
              "      <th>0</th>\n",
              "      <td>E1BDDCE0DAFA2679</td>\n",
              "      <td>2020-12-07 20:22:03</td>\n",
              "      <td>purchase</td>\n",
              "      <td>99.99</td>\n",
              "    </tr>\n",
              "    <tr>\n",
              "      <th>1</th>\n",
              "      <td>7B6452F081F49504</td>\n",
              "      <td>2020-12-07 09:22:53</td>\n",
              "      <td>purchase</td>\n",
              "      <td>9.99</td>\n",
              "    </tr>\n",
              "    <tr>\n",
              "      <th>2</th>\n",
              "      <td>9CD9F34546DF254C</td>\n",
              "      <td>2020-12-07 12:59:29</td>\n",
              "      <td>purchase</td>\n",
              "      <td>4.99</td>\n",
              "    </tr>\n",
              "    <tr>\n",
              "      <th>3</th>\n",
              "      <td>96F27A054B191457</td>\n",
              "      <td>2020-12-07 04:02:40</td>\n",
              "      <td>purchase</td>\n",
              "      <td>4.99</td>\n",
              "    </tr>\n",
              "    <tr>\n",
              "      <th>4</th>\n",
              "      <td>1FD7660FDF94CA1F</td>\n",
              "      <td>2020-12-07 10:15:09</td>\n",
              "      <td>purchase</td>\n",
              "      <td>4.99</td>\n",
              "    </tr>\n",
              "    <tr>\n",
              "      <th>...</th>\n",
              "      <td>...</td>\n",
              "      <td>...</td>\n",
              "      <td>...</td>\n",
              "      <td>...</td>\n",
              "    </tr>\n",
              "    <tr>\n",
              "      <th>423756</th>\n",
              "      <td>245E85F65C358E08</td>\n",
              "      <td>2020-12-30 19:35:55</td>\n",
              "      <td>login</td>\n",
              "      <td>NaN</td>\n",
              "    </tr>\n",
              "    <tr>\n",
              "      <th>423757</th>\n",
              "      <td>9385A108F5A0A7A7</td>\n",
              "      <td>2020-12-30 10:54:15</td>\n",
              "      <td>login</td>\n",
              "      <td>NaN</td>\n",
              "    </tr>\n",
              "    <tr>\n",
              "      <th>423758</th>\n",
              "      <td>DB650B7559AC6EAC</td>\n",
              "      <td>2020-12-30 10:59:09</td>\n",
              "      <td>login</td>\n",
              "      <td>NaN</td>\n",
              "    </tr>\n",
              "    <tr>\n",
              "      <th>423759</th>\n",
              "      <td>F80C9BDDEA02E53C</td>\n",
              "      <td>2020-12-30 09:53:39</td>\n",
              "      <td>login</td>\n",
              "      <td>NaN</td>\n",
              "    </tr>\n",
              "    <tr>\n",
              "      <th>423760</th>\n",
              "      <td>7AEC61159B672CC5</td>\n",
              "      <td>2020-12-30 11:36:13</td>\n",
              "      <td>login</td>\n",
              "      <td>NaN</td>\n",
              "    </tr>\n",
              "  </tbody>\n",
              "</table>\n",
              "<p>423761 rows × 4 columns</p>\n",
              "</div>"
            ],
            "text/plain": [
              "                 user_id            event_dt event_name  details\n",
              "0       E1BDDCE0DAFA2679 2020-12-07 20:22:03   purchase    99.99\n",
              "1       7B6452F081F49504 2020-12-07 09:22:53   purchase     9.99\n",
              "2       9CD9F34546DF254C 2020-12-07 12:59:29   purchase     4.99\n",
              "3       96F27A054B191457 2020-12-07 04:02:40   purchase     4.99\n",
              "4       1FD7660FDF94CA1F 2020-12-07 10:15:09   purchase     4.99\n",
              "...                  ...                 ...        ...      ...\n",
              "423756  245E85F65C358E08 2020-12-30 19:35:55      login      NaN\n",
              "423757  9385A108F5A0A7A7 2020-12-30 10:54:15      login      NaN\n",
              "423758  DB650B7559AC6EAC 2020-12-30 10:59:09      login      NaN\n",
              "423759  F80C9BDDEA02E53C 2020-12-30 09:53:39      login      NaN\n",
              "423760  7AEC61159B672CC5 2020-12-30 11:36:13      login      NaN\n",
              "\n",
              "[423761 rows x 4 columns]"
            ]
          },
          "execution_count": 28,
          "metadata": {},
          "output_type": "execute_result"
        }
      ],
      "source": [
        "# Menampilkan isi dari final_ab_events_dataframe\n",
        "final_ab_events_dataframe"
      ]
    },
    {
      "cell_type": "markdown",
      "metadata": {
        "id": "BDvd5k_lHOwg"
      },
      "source": [
        "**<font color=\"green\">Kesimpulan Sementara</font>**\n",
        "\n",
        "* Kita akan biarkan nilai kosong terlebih dahulu untuk dataframe `final_ab_events_dataframe`, karena kita harus mengetahui relevansi untuk masing-masing nilai terhadap kolom `details`."
      ]
    },
    {
      "cell_type": "markdown",
      "metadata": {
        "id": "8DDkFlh5HOwg"
      },
      "source": [
        "**Pra-pemrosesan Data final_ab_participants_dataframe**\n",
        "\n",
        "* Selanjutnya kita akan melakukan pra-pemrosesan data untuk dataframe `final_ab_participants_dataframe`"
      ]
    },
    {
      "cell_type": "code",
      "execution_count": null,
      "metadata": {
        "id": "Y1-XVrH1HOwg",
        "outputId": "c792dca8-dbb7-487a-d304-f9bef1021b52"
      },
      "outputs": [
        {
          "name": "stdout",
          "output_type": "stream",
          "text": [
            "<class 'pandas.core.frame.DataFrame'>\n",
            "RangeIndex: 14525 entries, 0 to 14524\n",
            "Data columns (total 3 columns):\n",
            " #   Column   Non-Null Count  Dtype \n",
            "---  ------   --------------  ----- \n",
            " 0   user_id  14525 non-null  object\n",
            " 1   group    14525 non-null  object\n",
            " 2   ab_test  14525 non-null  object\n",
            "dtypes: object(3)\n",
            "memory usage: 340.6+ KB\n"
          ]
        }
      ],
      "source": [
        "# Menampilkan informasi dari dataframe final_ab_participants_dataframe\n",
        "final_ab_participants_dataframe.info()"
      ]
    },
    {
      "cell_type": "code",
      "execution_count": null,
      "metadata": {
        "id": "WOfOzAHgHOwh",
        "outputId": "ca6e07df-0568-4800-f3f1-ca41259ddef9"
      },
      "outputs": [
        {
          "data": {
            "text/html": [
              "<div>\n",
              "<style scoped>\n",
              "    .dataframe tbody tr th:only-of-type {\n",
              "        vertical-align: middle;\n",
              "    }\n",
              "\n",
              "    .dataframe tbody tr th {\n",
              "        vertical-align: top;\n",
              "    }\n",
              "\n",
              "    .dataframe thead th {\n",
              "        text-align: right;\n",
              "    }\n",
              "</style>\n",
              "<table border=\"1\" class=\"dataframe\">\n",
              "  <thead>\n",
              "    <tr style=\"text-align: right;\">\n",
              "      <th></th>\n",
              "      <th>user_id</th>\n",
              "      <th>group</th>\n",
              "      <th>ab_test</th>\n",
              "    </tr>\n",
              "  </thead>\n",
              "  <tbody>\n",
              "    <tr>\n",
              "      <th>0</th>\n",
              "      <td>D1ABA3E2887B6A73</td>\n",
              "      <td>A</td>\n",
              "      <td>recommender_system_test</td>\n",
              "    </tr>\n",
              "    <tr>\n",
              "      <th>1</th>\n",
              "      <td>A7A3664BD6242119</td>\n",
              "      <td>A</td>\n",
              "      <td>recommender_system_test</td>\n",
              "    </tr>\n",
              "    <tr>\n",
              "      <th>2</th>\n",
              "      <td>DABC14FDDFADD29E</td>\n",
              "      <td>A</td>\n",
              "      <td>recommender_system_test</td>\n",
              "    </tr>\n",
              "    <tr>\n",
              "      <th>3</th>\n",
              "      <td>04988C5DF189632E</td>\n",
              "      <td>A</td>\n",
              "      <td>recommender_system_test</td>\n",
              "    </tr>\n",
              "    <tr>\n",
              "      <th>4</th>\n",
              "      <td>4FF2998A348C484F</td>\n",
              "      <td>A</td>\n",
              "      <td>recommender_system_test</td>\n",
              "    </tr>\n",
              "    <tr>\n",
              "      <th>...</th>\n",
              "      <td>...</td>\n",
              "      <td>...</td>\n",
              "      <td>...</td>\n",
              "    </tr>\n",
              "    <tr>\n",
              "      <th>14520</th>\n",
              "      <td>1D302F8688B91781</td>\n",
              "      <td>B</td>\n",
              "      <td>interface_eu_test</td>\n",
              "    </tr>\n",
              "    <tr>\n",
              "      <th>14521</th>\n",
              "      <td>3DE51B726983B657</td>\n",
              "      <td>A</td>\n",
              "      <td>interface_eu_test</td>\n",
              "    </tr>\n",
              "    <tr>\n",
              "      <th>14522</th>\n",
              "      <td>F501F79D332BE86C</td>\n",
              "      <td>A</td>\n",
              "      <td>interface_eu_test</td>\n",
              "    </tr>\n",
              "    <tr>\n",
              "      <th>14523</th>\n",
              "      <td>63FBE257B05F2245</td>\n",
              "      <td>A</td>\n",
              "      <td>interface_eu_test</td>\n",
              "    </tr>\n",
              "    <tr>\n",
              "      <th>14524</th>\n",
              "      <td>79F9ABFB029CF724</td>\n",
              "      <td>B</td>\n",
              "      <td>interface_eu_test</td>\n",
              "    </tr>\n",
              "  </tbody>\n",
              "</table>\n",
              "<p>14525 rows × 3 columns</p>\n",
              "</div>"
            ],
            "text/plain": [
              "                user_id group                  ab_test\n",
              "0      D1ABA3E2887B6A73     A  recommender_system_test\n",
              "1      A7A3664BD6242119     A  recommender_system_test\n",
              "2      DABC14FDDFADD29E     A  recommender_system_test\n",
              "3      04988C5DF189632E     A  recommender_system_test\n",
              "4      4FF2998A348C484F     A  recommender_system_test\n",
              "...                 ...   ...                      ...\n",
              "14520  1D302F8688B91781     B        interface_eu_test\n",
              "14521  3DE51B726983B657     A        interface_eu_test\n",
              "14522  F501F79D332BE86C     A        interface_eu_test\n",
              "14523  63FBE257B05F2245     A        interface_eu_test\n",
              "14524  79F9ABFB029CF724     B        interface_eu_test\n",
              "\n",
              "[14525 rows x 3 columns]"
            ]
          },
          "execution_count": 34,
          "metadata": {},
          "output_type": "execute_result"
        }
      ],
      "source": [
        "# Menampilkan isi dari dataframe final_ab_participants_dataframe\n",
        "final_ab_participants_dataframe"
      ]
    },
    {
      "cell_type": "markdown",
      "metadata": {
        "id": "B_cYb1i1HOwh"
      },
      "source": [
        "**<font color=\"green\">Temuan</font>**\n",
        "\n",
        "* Semua dataframe sudah sesuai tidak ada yang harus dikonversi untuk `final_ab_participants_dataframe`"
      ]
    },
    {
      "cell_type": "markdown",
      "metadata": {
        "id": "wUQ2QExgHOwh"
      },
      "source": [
        "**<font color=\"green\">Kesimpulan Sementara</font>**\n",
        "\n",
        "* Sesuai namanya dataframe `final_ab_participants_dataframe` merupakan isi dari masing-masing kelompok. Selanjutnya kita akan banyak menggunakan sample dari dataframe tersebut."
      ]
    },
    {
      "cell_type": "markdown",
      "metadata": {
        "id": "P9cOPyeYHOwi"
      },
      "source": [
        "# 4. Melakukan Analisis Data Eksploratif (EDA)\n",
        "\n",
        "* Kita akan melakukan exploratory data analysis.\n",
        "* Untuk melakukan ini kita harus menjawab tahapan yang sudah diuraikan."
      ]
    },
    {
      "cell_type": "markdown",
      "metadata": {
        "id": "gRZv7PPkHOwi"
      },
      "source": [
        "**Distribusi Jumlah Event per Pengguna:**\n",
        "\n",
        "* Menyelidiki apakah jumlah event per pengguna didistribusikan secara merata diantara sampel A dan sampel B."
      ]
    },
    {
      "cell_type": "code",
      "execution_count": null,
      "metadata": {
        "id": "IiuhtXySHOwi"
      },
      "outputs": [],
      "source": [
        "# Mengabungkan dataframe `final_ab_events_dataframe` dan `final_ab_participants_dataframe`\n",
        "merged_event_par_df = pd.merge(final_ab_events_dataframe, final_ab_participants_dataframe, on='user_id', how='left')"
      ]
    },
    {
      "cell_type": "markdown",
      "metadata": {
        "id": "7LFf-a2qHOwi"
      },
      "source": [
        "* Mengabungkan DataFrame `final_ab_events_dataframe` dengan `final_ab_participants_dataframe` berdasarkan kolom `user_id` untuk mendapatkan informasi kelompok A atau kelompok B dari setiap pengguna."
      ]
    },
    {
      "cell_type": "code",
      "execution_count": null,
      "metadata": {
        "id": "Ekf8rJpjHOwj"
      },
      "outputs": [],
      "source": [
        "# Menggunakan fungsi groupby untuk menghitung pengguna dan menambahkan kolom baru untuk menyimpan informasi\n",
        "events_each_user = merged_event_par_df.groupby(['ab_test', 'user_id']).size().reset_index(name='event_count')"
      ]
    },
    {
      "cell_type": "markdown",
      "metadata": {
        "id": "w6FS9Z1ZHOwj"
      },
      "source": [
        "* Menghitung jumlah event per pengguna dan menambahkan kolom baru untuk menyimpan informasi ini."
      ]
    },
    {
      "cell_type": "code",
      "execution_count": null,
      "metadata": {
        "id": "HpysHHDzHOwj",
        "outputId": "cdcf55b0-f3a1-4107-9911-07f2a3aea429"
      },
      "outputs": [
        {
          "data": {
            "image/png": "[encoded data removed]",
            "text/plain": [
              "<Figure size 720x432 with 1 Axes>"
            ]
          },
          "metadata": {
            "needs_background": "light"
          },
          "output_type": "display_data"
        }
      ],
      "source": [
        "# Membuat visualisasi distribusi dari kedua ab_test\n",
        "plt.figure(figsize=(10, 6))\n",
        "sns.histplot(data=events_each_user, x='event_count', hue='ab_test', bins=20, kde=True, palette=['blue', 'red'])\n",
        "plt.title('Distribusi Jumlah Event per Pengguna di Setiap Kelompok')\n",
        "plt.xlabel('Jumlah Event per Pengguna')\n",
        "plt.ylabel('Frekuensi')\n",
        "plt.show()"
      ]
    },
    {
      "cell_type": "markdown",
      "metadata": {
        "id": "rt9YEQRoHOwj"
      },
      "source": [
        "* Selanjutnya, analisis distribusi jumlah event per pengguna disetiap kelompok A dan kelompok B. Menggunakan metode seperti describe() untuk mendapatkan statistik deskriptif dan visualisasi seperti histogram untuk melihat distribusi."
      ]
    },
    {
      "cell_type": "markdown",
      "metadata": {
        "id": "X7eRsVxHHOwk"
      },
      "source": [
        "**<font color=\"green\">Kesimpulan Sementara</font>**\n",
        "\n",
        "* Dari visualisasi diatas, kita dapat melihat bahwa distribusi dari ab_test kurang merata. `recommender_system_test` cenderung lebih rendah daripada `interface_eu_test`."
      ]
    },
    {
      "cell_type": "markdown",
      "metadata": {
        "id": "8ncy8ZI0HOwk"
      },
      "source": [
        "**Pengguna yang Masuk pada Kedua Sampel:**\n",
        "\n",
        "* Mengidentifikasi apakah ada pengguna yang masuk pada kedua sampel tersebut, dan jika ada, mengevaluasi dampaknya terhadap hasil uji coba"
      ]
    },
    {
      "cell_type": "code",
      "execution_count": null,
      "metadata": {
        "id": "PBTKFh_THOwk"
      },
      "outputs": [],
      "source": [
        "# Melakukan identifikasi terhadap user pada kedua sampel\n",
        "both_users_sample_group = final_ab_participants_dataframe[final_ab_participants_dataframe.duplicated('user_id', keep=False)]"
      ]
    },
    {
      "cell_type": "markdown",
      "metadata": {
        "id": "NiSB5M68HOwk"
      },
      "source": [
        "* Mengunakan DataFrame `final_ab_participants_dataframe` untuk mencheck apakah ada pengguna yang terdapat didalam kedua kelompok tersebut (Kelompok A dan Kelompok B)."
      ]
    },
    {
      "cell_type": "code",
      "execution_count": null,
      "metadata": {
        "id": "lImPPWsfHOwk",
        "outputId": "25450c85-8c57-42d4-8bc4-70e810991248"
      },
      "outputs": [
        {
          "name": "stdout",
          "output_type": "stream",
          "text": [
            "Ada pengguna yang masuk pada kedua sampel.\n"
          ]
        }
      ],
      "source": [
        "# Melakukan check user didalam kedua kelompok dari dataframe `final_ab_participants_dataframe`\n",
        "if not both_users_sample_group.empty:\n",
        "    print(\"Ada pengguna yang masuk pada kedua sampel.\")\n",
        "    # Tindakan lebih lanjut sesuai kebutuhan (misalnya, analisis terpisah atau pengecualian dari hasil)\n",
        "else:\n",
        "    print(\"Tidak ada pengguna yang masuk pada kedua sampel.\")"
      ]
    },
    {
      "cell_type": "markdown",
      "metadata": {
        "id": "4QaakW3LHOwl"
      },
      "source": [
        "* Evaluasi Dampaknya terhadap Hasil Uji Coba tersebut:\n",
        "\n",
        "    - Jika terdapat pengguna yang masuk pada kedua sampel, perlu dievaluasi dampaknya terhadap hasil uji coba. Ini dapat memengaruhi interpretasi hasil dan kesimpulan yang diambil. Kita akan coba mengambil analisis terpisah."
      ]
    },
    {
      "cell_type": "code",
      "execution_count": null,
      "metadata": {
        "id": "Xp2ZjV_DHOwl"
      },
      "outputs": [],
      "source": [
        "# Melakukan mengambil baris2x final_ab_events_dataframe yang terkait dengan pengguna yang juga ada dalam both_users_sample_group\n",
        "events_for_both_users_sample_group = final_ab_events_dataframe[final_ab_events_dataframe['user_id'].isin(both_users_sample_group['user_id'])]"
      ]
    },
    {
      "cell_type": "code",
      "execution_count": null,
      "metadata": {
        "id": "7Bz71tS6HOwl"
      },
      "outputs": [],
      "source": [
        "# Mengabungkan DataFrame events_for_both_users_sample_group dengan final_ab_participants_dataframe\n",
        "events_for_both_users_sample_group = pd.merge(events_for_both_users_sample_group, final_ab_participants_dataframe[['user_id', 'ab_test']], on='user_id', how='left')"
      ]
    },
    {
      "cell_type": "markdown",
      "metadata": {
        "id": "qjGxSH3lHOwl"
      },
      "source": [
        "* Menggunakan informasi pengguna yang telah diidentifikasi untuk memfilter data event pada DataFrame `final_ab_events_dataframe`."
      ]
    },
    {
      "cell_type": "code",
      "execution_count": null,
      "metadata": {
        "id": "1oCv1Bj1HOwm",
        "outputId": "eed7ba19-d458-4852-8404-bd6f3d66dab0"
      },
      "outputs": [
        {
          "data": {
            "image/png": "[encoded data removed]",
            "text/plain": [
              "<Figure size 1080x720 with 1 Axes>"
            ]
          },
          "metadata": {
            "needs_background": "light"
          },
          "output_type": "display_data"
        }
      ],
      "source": [
        "events_per_user_both_groups = events_for_both_users_sample_group.groupby(['user_id', 'ab_test']).size().reset_index(name='event_count')\n",
        "\n",
        "plt.figure(figsize=(15, 10))\n",
        "sns.barplot(data=events_per_user_both_groups, x='user_id', y='event_count', hue='ab_test', palette=['blue', 'red'])\n",
        "plt.title('Distribusi Jumlah Event per Pengguna untuk Pengguna yang Masuk ke Kedua Sampel')\n",
        "plt.xlabel('User ID')\n",
        "plt.ylabel('Jumlah Event')\n",
        "plt.show()"
      ]
    },
    {
      "cell_type": "markdown",
      "metadata": {
        "id": "n_tmI8akHOwm"
      },
      "source": [
        "**<font color=\"green\">Kesimpulan Sementara</font>**\n",
        "\n",
        "Berdasarkan rujukan code:\n",
        "\n",
        "`if not users_in_both_groups.empty:     print(\"Ada pengguna yang masuk ke kedua sampel.\")     # Tindakan lebih lanjut sesuai kebutuhan (misalnya, analisis terpisah atau pengecualian dari hasil) else:     print(\"Tidak ada pengguna yang masuk ke kedua sampel.\")`\n",
        "\n",
        "* Terdapat yang masuk ke dua sample. Kita bisa melihat distribusi yang fluktuatif dan tidak merata. Namun beberapa ab_test ada yang mendapatkan nilai event paling tinggi. Bisa dipastikan user melakukan proses hingga akhir.\n",
        "\n",
        "* Jika kita interpertasikan ke pengaruh uji coba, pengguna yang terlibat dalam kedua kelompok dapat memperkenalkan noise atau variabilitas tambahan ke dalam data, yang dapat memengaruhi hasil uji coba. Dalam beberapa hal kasus, ini dapat membuat interpretasi hasil menjadi lebih kompleks."
      ]
    },
    {
      "cell_type": "markdown",
      "metadata": {
        "id": "AJ3S7cKCHOwm"
      },
      "source": [
        "**Distribusi Jumlah Event per Hari**\n",
        "\n",
        "* Menganalisis cara distribusi jumlah event berdasarkan hari."
      ]
    },
    {
      "cell_type": "code",
      "execution_count": null,
      "metadata": {
        "id": "I9nfGadpHOwm"
      },
      "outputs": [],
      "source": [
        "# Mengekstrak informasi tanggal seperti hari dari kolom event_dt\n",
        "final_ab_events_dataframe['day'] = final_ab_events_dataframe['event_dt'].dt.day"
      ]
    },
    {
      "cell_type": "code",
      "execution_count": null,
      "metadata": {
        "id": "5AHtjFyPHOwm"
      },
      "outputs": [],
      "source": [
        "# Menganalisis distribusi jumlah event per hari\n",
        "distribute_events_per_day = final_ab_events_dataframe.groupby('day').size().reset_index(name='event_count')"
      ]
    },
    {
      "cell_type": "code",
      "execution_count": null,
      "metadata": {
        "id": "mQMTuWyLHOwn",
        "outputId": "5796817f-932f-494b-cb8d-2887b608dca1"
      },
      "outputs": [
        {
          "data": {
            "image/png": "[encoded data removed]",
            "text/plain": [
              "<Figure size 1080x720 with 1 Axes>"
            ]
          },
          "metadata": {
            "needs_background": "light"
          },
          "output_type": "display_data"
        }
      ],
      "source": [
        "# Membuat visualisasi histogram distribute_events_per_day\n",
        "plt.figure(figsize=(15, 10))\n",
        "sns.barplot(data=distribute_events_per_day, x='day', y='event_count')\n",
        "plt.title('Distribusi Jumlah Event per Hari')\n",
        "plt.xlabel('Hari')\n",
        "plt.ylabel('Jumlah Event')\n",
        "plt.show()"
      ]
    },
    {
      "cell_type": "code",
      "execution_count": null,
      "metadata": {
        "id": "ViovtdClHOwn",
        "outputId": "8894e250-ce01-40c3-8718-3d40a4aa1df5"
      },
      "outputs": [
        {
          "data": {
            "image/png": "[encoded data removed]",
            "text/plain": [
              "<Figure size 864x576 with 1 Axes>"
            ]
          },
          "metadata": {
            "needs_background": "light"
          },
          "output_type": "display_data"
        }
      ],
      "source": [
        "# visualisasi lineplot\n",
        "plt.figure(figsize=(12, 8))\n",
        "sns.lineplot(data=distribute_events_per_day, x='day', y='event_count', marker='o')\n",
        "plt.title('Distribusi Jumlah Event per Hari')\n",
        "plt.xlabel('Hari')\n",
        "plt.ylabel('Jumlah Event')\n",
        "plt.show()"
      ]
    },
    {
      "cell_type": "markdown",
      "metadata": {
        "id": "rhNucXsLHOwn"
      },
      "source": [
        "**<font color=\"green\">Kesimpulan Sementara</font>**\n",
        "\n",
        "* Jumlah kepadatan event berada disekitar hari ke 20. Di hari-hari tersebut memiliki traffict yang sangat tinggi. Serta di akhir bulan mengalami penurunan yang signifikan."
      ]
    },
    {
      "cell_type": "markdown",
      "metadata": {
        "id": "V1Ce_oOZHOwo"
      },
      "source": [
        "# 5. Menganalisis Konversi di Berbagai Tahap Funnel\n",
        "\n",
        "* Melihat bagaimana konversi untuk funnel."
      ]
    },
    {
      "cell_type": "markdown",
      "metadata": {
        "id": "t9SJfgMMHOwo"
      },
      "source": [
        "**Mengidentifikasi dan Menganalisis Tingkat Konversi Pengguna pada Setiap Tahap funnel**\n",
        "\n",
        "* Mengidentifikasi tingkat konversi untuk setiap pengguna melalui funnel yang tersedia."
      ]
    },
    {
      "cell_type": "code",
      "execution_count": null,
      "metadata": {
        "id": "pd5AUbAAHOwo"
      },
      "outputs": [],
      "source": [
        "# Mengidentifikasi jumlah uniq per pengguna disetiap tahap funnel\n",
        "users_product_page = final_ab_events_dataframe[final_ab_events_dataframe['event_name'] == 'product_page']['user_id'].unique()\n",
        "users_product_card = final_ab_events_dataframe[final_ab_events_dataframe['event_name'] == 'product_cart']['user_id'].unique()\n",
        "users_purchase = final_ab_events_dataframe[final_ab_events_dataframe['event_name'] == 'purchase']['user_id'].unique()"
      ]
    },
    {
      "cell_type": "code",
      "execution_count": null,
      "metadata": {
        "id": "ItoUM1AzHOwp",
        "outputId": "fa53be84-ab45-4348-82ca-d907dc199cad"
      },
      "outputs": [
        {
          "name": "stdout",
          "output_type": "stream",
          "text": [
            "Tingkat konversi dari product_page ke product_card: 49.54%\n",
            "Tingkat konversi dari product_card ke purchase: 101.47%\n"
          ]
        }
      ],
      "source": [
        "# Menghitung tingkat konversi disetiap tahap\n",
        "conversion_product_page_to_card = len(users_product_card) / len(users_product_page)\n",
        "conversion_card_to_purchase = len(users_purchase) / len(users_product_card)\n",
        "\n",
        "print(f'Tingkat konversi dari product_page ke product_card: {conversion_product_page_to_card:.2%}')\n",
        "print(f'Tingkat konversi dari product_card ke purchase: {conversion_card_to_purchase:.2%}')"
      ]
    },
    {
      "cell_type": "code",
      "execution_count": null,
      "metadata": {
        "id": "U0-FUPHYHOwp",
        "outputId": "b3865871-df17-40fb-b8a7-28b82d6d3611"
      },
      "outputs": [
        {
          "data": {
            "image/png": "[encoded data removed]",
            "text/plain": [
              "<Figure size 720x432 with 1 Axes>"
            ]
          },
          "metadata": {
            "needs_background": "light"
          },
          "output_type": "display_data"
        }
      ],
      "source": [
        "# Membuat visualisasi grafik funnel\n",
        "plt.figure(figsize=(10, 6))\n",
        "\n",
        "# Bar pertama (tampilan halaman produk)\n",
        "plt.bar(0, len(users_product_page), color='blue', label='Product Page Views')\n",
        "\n",
        "# Bar kedua (tampilan kartu produk)\n",
        "plt.bar(1, len(users_product_card), color='red', label='Product Card Views')\n",
        "\n",
        "# Bar ketiga (pembelian)\n",
        "plt.bar(2, len(users_purchase), color='green', label='Purchases')\n",
        "\n",
        "plt.title('Funnel Conversion Analysis')\n",
        "plt.xlabel('Funnel Stages')\n",
        "plt.ylabel('Number of Users')\n",
        "plt.xticks([0, 1, 2], ['Product Page', 'Product Card', 'Purchase'])\n",
        "plt.legend()\n",
        "plt.show()"
      ]
    },
    {
      "cell_type": "markdown",
      "metadata": {
        "id": "srbG4_sQHOwp"
      },
      "source": [
        "**<font color=\"green\">Kesimpulan Sementara</font>**\n",
        "\n",
        "* Jika jumlah pengguna pada tahap tampilan halaman produk (Product Page) dalam funnel conversion analysis jauh lebih tinggi dibandingkan dengan tahap-tahap berikutnya (tampilan kartu produk dan pembelian), ini dapat diinterpretasikan sebagai indikasi bahwa sebagian besar pengguna cenderung berhenti atau tidak melanjutkan ke tahap-tahap selanjutnya dalam funnel."
      ]
    },
    {
      "cell_type": "markdown",
      "metadata": {
        "id": "05k-sOlnHOwq"
      },
      "source": [
        "# 6. Evaluasi Hasil A/B Test\n",
        "\n",
        "* Evaluasi hasil A/B testing yang telah kita analisis.\n",
        "\n",
        "**Interpretasi Hasil A/B Test**\n",
        "\n",
        "* Mari kita lihat apa yang bisa kita simpulkan dari hasil A/B Testing."
      ]
    },
    {
      "cell_type": "code",
      "execution_count": null,
      "metadata": {
        "id": "FEY0Wdj_HOwq",
        "outputId": "bba46b40-ab07-4a96-933d-3db42e272ebb"
      },
      "outputs": [
        {
          "name": "stdout",
          "output_type": "stream",
          "text": [
            "\u001b[1mNilai p dari uji z:\u001b[0m 0.03355878472437525\n",
            "\u001b[1mNilai p kurang dari alpha. Reject hipotesis nol.\u001b[0m\n",
            "\u001b[1mAda perbedaan yang signifikan antara kelompok A dan B.\u001b[0m\n"
          ]
        }
      ],
      "source": [
        "alpha = 0.05\n",
        "\n",
        "# untuk uji z pada konversi pembelian\n",
        "control_group = final_ab_participants_dataframe[final_ab_participants_dataframe['group'] == 'A']['user_id'].unique()\n",
        "treatment_group = final_ab_participants_dataframe[final_ab_participants_dataframe['group'] == 'B']['user_id'].unique()\n",
        "\n",
        "# hitung jumlah pembelian pada masing-masing kelompok\n",
        "purchase_control = final_ab_events_dataframe[(final_ab_events_dataframe['user_id'].isin(control_group)) & (final_ab_events_dataframe['event_name'] == 'purchase')]['user_id'].nunique()\n",
        "purchase_treatment = final_ab_events_dataframe[(final_ab_events_dataframe['user_id'].isin(treatment_group)) & (final_ab_events_dataframe['event_name'] == 'purchase')]['user_id'].nunique()\n",
        "\n",
        "# hitung jumlah total pengguna pada masing-masing kelompok\n",
        "total_users_control = len(control_group)\n",
        "total_users_treatment = len(treatment_group)\n",
        "\n",
        "# melakukan uji z pada konversi pembelian\n",
        "stat, p_value = proportions_ztest([purchase_control, purchase_treatment], [total_users_control, total_users_treatment])\n",
        "print(f'\\033[1mNilai p dari uji z:\\033[0m {p_value}')\n",
        "\n",
        "\n",
        "if p_value < alpha:\n",
        "    print(\"\\033[1mNilai p kurang dari alpha. Reject hipotesis nol.\\033[0m\")\n",
        "    print(\"\\033[1mAda perbedaan yang signifikan antara kelompok A dan B.\\033[0m\")\n",
        "else:\n",
        "    print(\"\\033[1mNilai p lebih besar dari alpha. Tidak cukup bukti untuk menolak hipotesis nol.\\033[0m\")\n",
        "    print(\"\\033[1mTidak ada perbedaan yang signifikan antara kelompok A dan B.\\033[0m\")"
      ]
    },
    {
      "cell_type": "markdown",
      "metadata": {
        "id": "1WrWNsdzHOwr"
      },
      "source": [
        "**<font color=\"green\">Kesimpulan Sementara</font>**\n",
        "\n",
        "* Dengan alpha 0.05 (1.9.1) kita bisa melihat bahwa dalam konteks A/B testing, ini berarti bahwa cara melakukan pembayaran baru (kelompok B) memiliki dampak yang signifikan terhadap konversi pembelian dibandingkan dengan kelompok kontrol (kelompok A)."
      ]
    },
    {
      "cell_type": "markdown",
      "metadata": {
        "id": "3x9DzjLpHOwr"
      },
      "source": [
        "**Penggunaan Z-Criterion**\n",
        "\n",
        "* Menggunakan z-criterion untuk memeriksa perbedaan statistik antara proporsi pada kedua kelompok."
      ]
    },
    {
      "cell_type": "code",
      "execution_count": null,
      "metadata": {
        "id": "Ke4vVrFNHOwr",
        "outputId": "a29e4f91-d23f-44ed-d2a0-2e63536761fa"
      },
      "outputs": [
        {
          "name": "stdout",
          "output_type": "stream",
          "text": [
            "\u001b[1mNilai z melebihi nilai kritis. Terdapat perbedaan yang signifikan antara dua kelompok.\u001b[0m\n"
          ]
        }
      ],
      "source": [
        "# Menghitung proporsi dan perbedaan proporsi\n",
        "prop_control = purchase_control / total_users_control\n",
        "prop_treatment = purchase_treatment / total_users_treatment\n",
        "prop_diff = prop_treatment - prop_control\n",
        "\n",
        "# Hitung standar deviasi gabungan\n",
        "pooled_std_dev = np.sqrt(prop_control * (1 - prop_control) / total_users_control + prop_treatment * (1 - prop_treatment) / total_users_treatment)\n",
        "\n",
        "# Hitung nilai z\n",
        "z_value = prop_diff / pooled_std_dev\n",
        "\n",
        "# Tentukan nilai kritis dari distribusi normal standar\n",
        "alpha = 0.05\n",
        "z_critical = norm.ppf(1 - alpha / 2)\n",
        "\n",
        "# Interpretasi hasil\n",
        "if np.abs(z_value) > z_critical:\n",
        "    print(\"\\033[1mNilai z melebihi nilai kritis. Terdapat perbedaan yang signifikan antara dua kelompok.\\033[0m\")\n",
        "else:\n",
        "    print(\"\\033[1mNilai z tidak melebihi nilai kritis. Tidak cukup bukti untuk menyimpulkan adanya perbedaan yang signifikan antara dua kelompok.\\033[0m\")"
      ]
    },
    {
      "cell_type": "markdown",
      "metadata": {
        "id": "7AiYj-0kHOwr"
      },
      "source": [
        "**<font color=\"green\">Kesimpulan Sementara</font>**\n",
        "\n",
        "* Interpretasi yang cukup untuk hasil tersebut adalah bahwa terdapat perbedaan yang signifikan antara dua kelompok dalam hal proporsi konversi pembelian. Dengan kata lain,  cara melakukan pembayaran baru (kelompok B) memiliki dampak yang signifikan terhadap konversi pembelian dibandingkan dengan kelompok kontrol (kelompok A)."
      ]
    },
    {
      "cell_type": "markdown",
      "metadata": {
        "id": "-sJg5XbcHOws"
      },
      "source": [
        "# 7. Kesimpulan Umum\n",
        "\n",
        "* Tidak ada nilai yang hilang untuk project_marketing_dataframe, namun kita telah mengubah tipe data date menjadi to_datetime untuk kolom yang dibutuhkan konversi.\n",
        "* Tidak ada nilai yang hilang untuk dataframe `final_ab_new_users_dataframe` dan hanya satu kolom yang kita konversi menjadi to_datetime yaitu first_date\n",
        "* Kita akan biarkan nilai kosong terlebih dahulu untuk dataframe `final_ab_events_dataframe`, karena kita harus mengetahui relevansi untuk masing-masing nilai terhadap kolom details\n",
        "* Sesuai namanya dataframe `final_ab_participants_dataframe` merupakan isi dari masing-masing kelompok. Kita akan banyak menggunakan sample dari dataframe tersebut.\n",
        "* Dari visualisasi diatas, kita dapat melihat bahwa distribusi dari ab_test kurang merata. `recommender_system_test` cenderung lebih rendah daripada `interface_eu_test`."
      ]
    },
    {
      "cell_type": "markdown",
      "metadata": {
        "id": "kTCXoxyYHOws"
      },
      "source": [
        "* Berdasarkan rujukan code:\n",
        "\n",
        "`if not users_in_both_groups.empty:     print(\"Ada pengguna yang masuk ke kedua sampel.\")     # Tindakan lebih lanjut sesuai kebutuhan (misalnya, analisis terpisah atau pengecualian dari hasil) else:     print(\"Tidak ada pengguna yang masuk ke kedua sampel.\")`\n",
        "\n",
        "* Terdapat yang masuk ke dua sample. Kita bisa melihat distribusi yang fluktuatif dan tidak merata. Namun beberapa ab_test ada yang mendapatkan nilai event paling tinggi. Bisa dipastikan user melakukan proses hingga akhir.\n",
        "\n",
        "* Jika kita interpertasikan ke pengaruh uji coba, pengguna yang terlibat dalam kedua kelompok dapat memperkenalkan noise atau variabilitas tambahan ke dalam data, yang dapat memengaruhi hasil uji coba. Dalam beberapa kasus, ini dapat membuat interpretasi hasil menjadi lebih kompleks."
      ]
    },
    {
      "cell_type": "markdown",
      "metadata": {
        "id": "KU2X_hC_HOws"
      },
      "source": [
        "* Jumlah kepadatan event berada di sekitar hari ke 20. Di hari-hari tersebut memeiliki traffict yang sangat tinggi. Serta di akhir bulan mengalami penurunan yang signifikan.\n",
        "* Jika jumlah pengguna pada tahap tampilan halaman produk (Product Page) dalam funnel conversion analysis jauh lebih tinggi dibandingkan dengan tahap-tahap berikutnya (tampilan kartu produk dan pembelian), ini dapat diinterpretasikan sebagai indikasi bahwa sebagian besar pengguna cenderung berhenti atau tidak melanjutkan ke tahap-tahap selanjutnya dalam funnel.\n",
        "* Dengan alpha 0.05 kita bisa melihat bahwa dalam konteks A/B testing, ini berarti bahwa rute pembayaran baru (kelompok B) memiliki dampak yang signifikan terhadap konversi pembelian dibandingkan dengan kelompok kontrol (kelompok A).\n",
        "* Interpretasi yang cukup untuk hasil tersebut adalah bahwa terdapat perbedaan yang signifikan antara dua kelompok dalam hal proporsi konversi pembelian. Dengan kata lain, cara melakukan pembayaran baru (kelompok B) memiliki dampak yang signifikan terhadap konversi pembelian dibandingkan dengan kelompok kontrol (kelompok A)."
      ]
    },
    {
      "cell_type": "markdown",
      "metadata": {
        "id": "SoRI0JFkHOws"
      },
      "source": [
        "# 8. Garis Besar Evaluasi\n",
        "\n",
        "* Dengan demikian, evaluasi dari proyek A/B Testing ini menunjukkan bahwa implementasi rute pembayaran baru memiliki dampak yang signifikan dalam meningkatkan konversi pembelian dibandingkan dengan metode sebelumnya (kelompok kontrol). Oleh karena itu, rekomendasi dapat diberikan untuk melanjutkan penggunaan rute pembayaran baru berdasarkan hasil yang positif dari uji coba ini.\n",
        "\n",
        "* Peningkatan Konversi:\n",
        "   - Kita telah mengidentifikasi perbedaan yang signifikan antara kelompok kontrol dan perlakuan dalam hal konversi pembelian. Hal ini menunjukkan bahwa implementasi cara melakukan pembayaran baru (kelompok B) telah berhasil meningkatkan konversi pembelian dibandingkan dengan metode sebelumnya (kelompok kontrol).\n",
        "   - Namun, untuk memastikan apakah peningkatan konversi sesuai dengan yang diharapkan (minimal 10%), kita perlu memeriksa persentase peningkatan pada setiap tahap funnel (tampilan halaman produk, tampilan kartu produk, dan pembelian) dalam periode 14 hari setelah pendaftaran.\n",
        "   \n",
        "* Analisis Tahap Funnel:\n",
        "   - Kita telah menganalisis konversi pada berbagai tahap funnel dan menemukan bahwa sebagian besar pengguna cenderung berhenti atau tidak melanjutkan ke tahap-tahap berikutnya setelah tampilan halaman produk. Hal ini menunjukkan bahwa ada potensi untuk meningkatkan tingkat konversi pada tahap-tahap berikutnya."
      ]
    }
  ],
  "metadata": {
    "kernelspec": {
      "display_name": "Python 3 (ipykernel)",
      "language": "python",
      "name": "python3"
    },
    "language_info": {
      "codemirror_mode": {
        "name": "ipython",
        "version": 3
      },
      "file_extension": ".py",
      "mimetype": "text/x-python",
      "name": "python",
      "nbconvert_exporter": "python",
      "pygments_lexer": "ipython3",
      "version": "3.9.19"
    },
    "toc": {
      "base_numbering": 1,
      "nav_menu": {},
      "number_sections": true,
      "sideBar": true,
      "skip_h1_title": true,
      "title_cell": "Table of Contents",
      "title_sidebar": "Contents",
      "toc_cell": false,
      "toc_position": {},
      "toc_section_display": true,
      "toc_window_display": false
    },
    "colab": {
      "provenance": []
    }
  },
  "nbformat": 4,
  "nbformat_minor": 0
}